{
 "cells": [
  {
   "attachments": {},
   "cell_type": "markdown",
   "metadata": {},
   "source": [
    "# Modelo Preditivo para detecção de fraudes"
   ]
  },
  {
   "attachments": {},
   "cell_type": "markdown",
   "metadata": {},
   "source": [
    "# 1. Importação e leitura dos dados."
   ]
  },
  {
   "cell_type": "code",
   "execution_count": 1,
   "metadata": {},
   "outputs": [],
   "source": [
    "\n",
    "# Importação das bibliotecas\n",
    "import pandas as pd\n",
    "import matplotlib.pyplot as plt\n",
    "import seaborn as sns\n",
    "import numpy as np\n",
    "import warnings\n",
    "warnings.filterwarnings(\"ignore\")\n",
    "\n",
    "#importando o pacote para separar os dados\n",
    "from sklearn.model_selection import train_test_split\n",
    "\n",
    "#importando os pacotes para mensurar qualidade e fit do modelo\n",
    "from sklearn.metrics import r2_score, mean_absolute_error, mean_squared_error\n",
    "from sklearn.metrics import classification_report, confusion_matrix"
   ]
  },
  {
   "cell_type": "code",
   "execution_count": 2,
   "metadata": {},
   "outputs": [],
   "source": [
    "# Caminho e leitura do dataset\n",
    "caminho_dataset = \"./dataset/creditcard.csv\"\n",
    "df = pd.read_csv(caminho_dataset)"
   ]
  },
  {
   "attachments": {},
   "cell_type": "markdown",
   "metadata": {},
   "source": [
    "# 2. EDA\n",
    "\n",
    "### 2.1 Tamanho do dataframe\n",
    "Abaixo temos a descrição do tamanho do dataset que iremos utilizar.\n",
    "Podemos ver que o dataset possue quase 285k registros e temos mais de 30 atributos."
   ]
  },
  {
   "cell_type": "code",
   "execution_count": 3,
   "metadata": {},
   "outputs": [
    {
     "name": "stdout",
     "output_type": "stream",
     "text": [
      "Quantidade de registros: 284807\n",
      "Quantidade de atributos: 31\n"
     ]
    },
    {
     "data": {
      "text/html": [
       "<div>\n",
       "<style scoped>\n",
       "    .dataframe tbody tr th:only-of-type {\n",
       "        vertical-align: middle;\n",
       "    }\n",
       "\n",
       "    .dataframe tbody tr th {\n",
       "        vertical-align: top;\n",
       "    }\n",
       "\n",
       "    .dataframe thead th {\n",
       "        text-align: right;\n",
       "    }\n",
       "</style>\n",
       "<table border=\"1\" class=\"dataframe\">\n",
       "  <thead>\n",
       "    <tr style=\"text-align: right;\">\n",
       "      <th></th>\n",
       "      <th>Time</th>\n",
       "      <th>V1</th>\n",
       "      <th>V2</th>\n",
       "      <th>V3</th>\n",
       "      <th>V4</th>\n",
       "      <th>V5</th>\n",
       "      <th>V6</th>\n",
       "      <th>V7</th>\n",
       "      <th>V8</th>\n",
       "      <th>V9</th>\n",
       "      <th>...</th>\n",
       "      <th>V21</th>\n",
       "      <th>V22</th>\n",
       "      <th>V23</th>\n",
       "      <th>V24</th>\n",
       "      <th>V25</th>\n",
       "      <th>V26</th>\n",
       "      <th>V27</th>\n",
       "      <th>V28</th>\n",
       "      <th>Amount</th>\n",
       "      <th>Class</th>\n",
       "    </tr>\n",
       "  </thead>\n",
       "  <tbody>\n",
       "    <tr>\n",
       "      <th>0</th>\n",
       "      <td>0.0</td>\n",
       "      <td>-1.359807</td>\n",
       "      <td>-0.072781</td>\n",
       "      <td>2.536347</td>\n",
       "      <td>1.378155</td>\n",
       "      <td>-0.338321</td>\n",
       "      <td>0.462388</td>\n",
       "      <td>0.239599</td>\n",
       "      <td>0.098698</td>\n",
       "      <td>0.363787</td>\n",
       "      <td>...</td>\n",
       "      <td>-0.018307</td>\n",
       "      <td>0.277838</td>\n",
       "      <td>-0.110474</td>\n",
       "      <td>0.066928</td>\n",
       "      <td>0.128539</td>\n",
       "      <td>-0.189115</td>\n",
       "      <td>0.133558</td>\n",
       "      <td>-0.021053</td>\n",
       "      <td>149.62</td>\n",
       "      <td>0</td>\n",
       "    </tr>\n",
       "    <tr>\n",
       "      <th>1</th>\n",
       "      <td>0.0</td>\n",
       "      <td>1.191857</td>\n",
       "      <td>0.266151</td>\n",
       "      <td>0.166480</td>\n",
       "      <td>0.448154</td>\n",
       "      <td>0.060018</td>\n",
       "      <td>-0.082361</td>\n",
       "      <td>-0.078803</td>\n",
       "      <td>0.085102</td>\n",
       "      <td>-0.255425</td>\n",
       "      <td>...</td>\n",
       "      <td>-0.225775</td>\n",
       "      <td>-0.638672</td>\n",
       "      <td>0.101288</td>\n",
       "      <td>-0.339846</td>\n",
       "      <td>0.167170</td>\n",
       "      <td>0.125895</td>\n",
       "      <td>-0.008983</td>\n",
       "      <td>0.014724</td>\n",
       "      <td>2.69</td>\n",
       "      <td>0</td>\n",
       "    </tr>\n",
       "    <tr>\n",
       "      <th>2</th>\n",
       "      <td>1.0</td>\n",
       "      <td>-1.358354</td>\n",
       "      <td>-1.340163</td>\n",
       "      <td>1.773209</td>\n",
       "      <td>0.379780</td>\n",
       "      <td>-0.503198</td>\n",
       "      <td>1.800499</td>\n",
       "      <td>0.791461</td>\n",
       "      <td>0.247676</td>\n",
       "      <td>-1.514654</td>\n",
       "      <td>...</td>\n",
       "      <td>0.247998</td>\n",
       "      <td>0.771679</td>\n",
       "      <td>0.909412</td>\n",
       "      <td>-0.689281</td>\n",
       "      <td>-0.327642</td>\n",
       "      <td>-0.139097</td>\n",
       "      <td>-0.055353</td>\n",
       "      <td>-0.059752</td>\n",
       "      <td>378.66</td>\n",
       "      <td>0</td>\n",
       "    </tr>\n",
       "    <tr>\n",
       "      <th>3</th>\n",
       "      <td>1.0</td>\n",
       "      <td>-0.966272</td>\n",
       "      <td>-0.185226</td>\n",
       "      <td>1.792993</td>\n",
       "      <td>-0.863291</td>\n",
       "      <td>-0.010309</td>\n",
       "      <td>1.247203</td>\n",
       "      <td>0.237609</td>\n",
       "      <td>0.377436</td>\n",
       "      <td>-1.387024</td>\n",
       "      <td>...</td>\n",
       "      <td>-0.108300</td>\n",
       "      <td>0.005274</td>\n",
       "      <td>-0.190321</td>\n",
       "      <td>-1.175575</td>\n",
       "      <td>0.647376</td>\n",
       "      <td>-0.221929</td>\n",
       "      <td>0.062723</td>\n",
       "      <td>0.061458</td>\n",
       "      <td>123.50</td>\n",
       "      <td>0</td>\n",
       "    </tr>\n",
       "    <tr>\n",
       "      <th>4</th>\n",
       "      <td>2.0</td>\n",
       "      <td>-1.158233</td>\n",
       "      <td>0.877737</td>\n",
       "      <td>1.548718</td>\n",
       "      <td>0.403034</td>\n",
       "      <td>-0.407193</td>\n",
       "      <td>0.095921</td>\n",
       "      <td>0.592941</td>\n",
       "      <td>-0.270533</td>\n",
       "      <td>0.817739</td>\n",
       "      <td>...</td>\n",
       "      <td>-0.009431</td>\n",
       "      <td>0.798278</td>\n",
       "      <td>-0.137458</td>\n",
       "      <td>0.141267</td>\n",
       "      <td>-0.206010</td>\n",
       "      <td>0.502292</td>\n",
       "      <td>0.219422</td>\n",
       "      <td>0.215153</td>\n",
       "      <td>69.99</td>\n",
       "      <td>0</td>\n",
       "    </tr>\n",
       "  </tbody>\n",
       "</table>\n",
       "<p>5 rows × 31 columns</p>\n",
       "</div>"
      ],
      "text/plain": [
       "   Time        V1        V2        V3        V4        V5        V6        V7  \\\n",
       "0   0.0 -1.359807 -0.072781  2.536347  1.378155 -0.338321  0.462388  0.239599   \n",
       "1   0.0  1.191857  0.266151  0.166480  0.448154  0.060018 -0.082361 -0.078803   \n",
       "2   1.0 -1.358354 -1.340163  1.773209  0.379780 -0.503198  1.800499  0.791461   \n",
       "3   1.0 -0.966272 -0.185226  1.792993 -0.863291 -0.010309  1.247203  0.237609   \n",
       "4   2.0 -1.158233  0.877737  1.548718  0.403034 -0.407193  0.095921  0.592941   \n",
       "\n",
       "         V8        V9  ...       V21       V22       V23       V24       V25  \\\n",
       "0  0.098698  0.363787  ... -0.018307  0.277838 -0.110474  0.066928  0.128539   \n",
       "1  0.085102 -0.255425  ... -0.225775 -0.638672  0.101288 -0.339846  0.167170   \n",
       "2  0.247676 -1.514654  ...  0.247998  0.771679  0.909412 -0.689281 -0.327642   \n",
       "3  0.377436 -1.387024  ... -0.108300  0.005274 -0.190321 -1.175575  0.647376   \n",
       "4 -0.270533  0.817739  ... -0.009431  0.798278 -0.137458  0.141267 -0.206010   \n",
       "\n",
       "        V26       V27       V28  Amount  Class  \n",
       "0 -0.189115  0.133558 -0.021053  149.62      0  \n",
       "1  0.125895 -0.008983  0.014724    2.69      0  \n",
       "2 -0.139097 -0.055353 -0.059752  378.66      0  \n",
       "3 -0.221929  0.062723  0.061458  123.50      0  \n",
       "4  0.502292  0.219422  0.215153   69.99      0  \n",
       "\n",
       "[5 rows x 31 columns]"
      ]
     },
     "execution_count": 3,
     "metadata": {},
     "output_type": "execute_result"
    }
   ],
   "source": [
    "# Detalhes do dataset\n",
    "print(f\"Quantidade de registros: {df.shape[0]}\")\n",
    "print(f\"Quantidade de atributos: {df.shape[1]}\")\n",
    "\n",
    "# Visualização de uma amostra dos dados\n",
    "df.head()"
   ]
  },
  {
   "cell_type": "code",
   "execution_count": 4,
   "metadata": {},
   "outputs": [
    {
     "data": {
      "text/plain": [
       "Index(['Time', 'V1', 'V2', 'V3', 'V4', 'V5', 'V6', 'V7', 'V8', 'V9', 'V10',\n",
       "       'V11', 'V12', 'V13', 'V14', 'V15', 'V16', 'V17', 'V18', 'V19', 'V20',\n",
       "       'V21', 'V22', 'V23', 'V24', 'V25', 'V26', 'V27', 'V28', 'Amount',\n",
       "       'Class'],\n",
       "      dtype='object')"
      ]
     },
     "execution_count": 4,
     "metadata": {},
     "output_type": "execute_result"
    }
   ],
   "source": [
    "# Colunas\n",
    "df.columns"
   ]
  },
  {
   "attachments": {},
   "cell_type": "markdown",
   "metadata": {},
   "source": [
    "### 2.2 Tipo dos dados"
   ]
  },
  {
   "cell_type": "code",
   "execution_count": 5,
   "metadata": {},
   "outputs": [
    {
     "name": "stdout",
     "output_type": "stream",
     "text": [
      "<class 'pandas.core.frame.DataFrame'>\n",
      "RangeIndex: 284807 entries, 0 to 284806\n",
      "Data columns (total 31 columns):\n",
      " #   Column  Non-Null Count   Dtype  \n",
      "---  ------  --------------   -----  \n",
      " 0   Time    284807 non-null  float64\n",
      " 1   V1      284807 non-null  float64\n",
      " 2   V2      284807 non-null  float64\n",
      " 3   V3      284807 non-null  float64\n",
      " 4   V4      284807 non-null  float64\n",
      " 5   V5      284807 non-null  float64\n",
      " 6   V6      284807 non-null  float64\n",
      " 7   V7      284807 non-null  float64\n",
      " 8   V8      284807 non-null  float64\n",
      " 9   V9      284807 non-null  float64\n",
      " 10  V10     284807 non-null  float64\n",
      " 11  V11     284807 non-null  float64\n",
      " 12  V12     284807 non-null  float64\n",
      " 13  V13     284807 non-null  float64\n",
      " 14  V14     284807 non-null  float64\n",
      " 15  V15     284807 non-null  float64\n",
      " 16  V16     284807 non-null  float64\n",
      " 17  V17     284807 non-null  float64\n",
      " 18  V18     284807 non-null  float64\n",
      " 19  V19     284807 non-null  float64\n",
      " 20  V20     284807 non-null  float64\n",
      " 21  V21     284807 non-null  float64\n",
      " 22  V22     284807 non-null  float64\n",
      " 23  V23     284807 non-null  float64\n",
      " 24  V24     284807 non-null  float64\n",
      " 25  V25     284807 non-null  float64\n",
      " 26  V26     284807 non-null  float64\n",
      " 27  V27     284807 non-null  float64\n",
      " 28  V28     284807 non-null  float64\n",
      " 29  Amount  284807 non-null  float64\n",
      " 30  Class   284807 non-null  int64  \n",
      "dtypes: float64(30), int64(1)\n",
      "memory usage: 67.4 MB\n"
     ]
    }
   ],
   "source": [
    "df.info()"
   ]
  },
  {
   "cell_type": "code",
   "execution_count": 6,
   "metadata": {},
   "outputs": [
    {
     "data": {
      "text/html": [
       "<div>\n",
       "<style scoped>\n",
       "    .dataframe tbody tr th:only-of-type {\n",
       "        vertical-align: middle;\n",
       "    }\n",
       "\n",
       "    .dataframe tbody tr th {\n",
       "        vertical-align: top;\n",
       "    }\n",
       "\n",
       "    .dataframe thead th {\n",
       "        text-align: right;\n",
       "    }\n",
       "</style>\n",
       "<table border=\"1\" class=\"dataframe\">\n",
       "  <thead>\n",
       "    <tr style=\"text-align: right;\">\n",
       "      <th></th>\n",
       "      <th>Tipo</th>\n",
       "    </tr>\n",
       "  </thead>\n",
       "  <tbody>\n",
       "    <tr>\n",
       "      <th>Time</th>\n",
       "      <td>float64</td>\n",
       "    </tr>\n",
       "    <tr>\n",
       "      <th>V1</th>\n",
       "      <td>float64</td>\n",
       "    </tr>\n",
       "    <tr>\n",
       "      <th>V2</th>\n",
       "      <td>float64</td>\n",
       "    </tr>\n",
       "    <tr>\n",
       "      <th>V3</th>\n",
       "      <td>float64</td>\n",
       "    </tr>\n",
       "    <tr>\n",
       "      <th>V4</th>\n",
       "      <td>float64</td>\n",
       "    </tr>\n",
       "    <tr>\n",
       "      <th>V5</th>\n",
       "      <td>float64</td>\n",
       "    </tr>\n",
       "    <tr>\n",
       "      <th>V6</th>\n",
       "      <td>float64</td>\n",
       "    </tr>\n",
       "    <tr>\n",
       "      <th>V7</th>\n",
       "      <td>float64</td>\n",
       "    </tr>\n",
       "    <tr>\n",
       "      <th>V8</th>\n",
       "      <td>float64</td>\n",
       "    </tr>\n",
       "    <tr>\n",
       "      <th>V9</th>\n",
       "      <td>float64</td>\n",
       "    </tr>\n",
       "    <tr>\n",
       "      <th>V10</th>\n",
       "      <td>float64</td>\n",
       "    </tr>\n",
       "    <tr>\n",
       "      <th>V11</th>\n",
       "      <td>float64</td>\n",
       "    </tr>\n",
       "    <tr>\n",
       "      <th>V12</th>\n",
       "      <td>float64</td>\n",
       "    </tr>\n",
       "    <tr>\n",
       "      <th>V13</th>\n",
       "      <td>float64</td>\n",
       "    </tr>\n",
       "    <tr>\n",
       "      <th>V14</th>\n",
       "      <td>float64</td>\n",
       "    </tr>\n",
       "    <tr>\n",
       "      <th>V15</th>\n",
       "      <td>float64</td>\n",
       "    </tr>\n",
       "    <tr>\n",
       "      <th>V16</th>\n",
       "      <td>float64</td>\n",
       "    </tr>\n",
       "    <tr>\n",
       "      <th>V17</th>\n",
       "      <td>float64</td>\n",
       "    </tr>\n",
       "    <tr>\n",
       "      <th>V18</th>\n",
       "      <td>float64</td>\n",
       "    </tr>\n",
       "    <tr>\n",
       "      <th>V19</th>\n",
       "      <td>float64</td>\n",
       "    </tr>\n",
       "    <tr>\n",
       "      <th>V20</th>\n",
       "      <td>float64</td>\n",
       "    </tr>\n",
       "    <tr>\n",
       "      <th>V21</th>\n",
       "      <td>float64</td>\n",
       "    </tr>\n",
       "    <tr>\n",
       "      <th>V22</th>\n",
       "      <td>float64</td>\n",
       "    </tr>\n",
       "    <tr>\n",
       "      <th>V23</th>\n",
       "      <td>float64</td>\n",
       "    </tr>\n",
       "    <tr>\n",
       "      <th>V24</th>\n",
       "      <td>float64</td>\n",
       "    </tr>\n",
       "    <tr>\n",
       "      <th>V25</th>\n",
       "      <td>float64</td>\n",
       "    </tr>\n",
       "    <tr>\n",
       "      <th>V26</th>\n",
       "      <td>float64</td>\n",
       "    </tr>\n",
       "    <tr>\n",
       "      <th>V27</th>\n",
       "      <td>float64</td>\n",
       "    </tr>\n",
       "    <tr>\n",
       "      <th>V28</th>\n",
       "      <td>float64</td>\n",
       "    </tr>\n",
       "    <tr>\n",
       "      <th>Amount</th>\n",
       "      <td>float64</td>\n",
       "    </tr>\n",
       "    <tr>\n",
       "      <th>Class</th>\n",
       "      <td>int64</td>\n",
       "    </tr>\n",
       "  </tbody>\n",
       "</table>\n",
       "</div>"
      ],
      "text/plain": [
       "           Tipo\n",
       "Time    float64\n",
       "V1      float64\n",
       "V2      float64\n",
       "V3      float64\n",
       "V4      float64\n",
       "V5      float64\n",
       "V6      float64\n",
       "V7      float64\n",
       "V8      float64\n",
       "V9      float64\n",
       "V10     float64\n",
       "V11     float64\n",
       "V12     float64\n",
       "V13     float64\n",
       "V14     float64\n",
       "V15     float64\n",
       "V16     float64\n",
       "V17     float64\n",
       "V18     float64\n",
       "V19     float64\n",
       "V20     float64\n",
       "V21     float64\n",
       "V22     float64\n",
       "V23     float64\n",
       "V24     float64\n",
       "V25     float64\n",
       "V26     float64\n",
       "V27     float64\n",
       "V28     float64\n",
       "Amount  float64\n",
       "Class     int64"
      ]
     },
     "execution_count": 6,
     "metadata": {},
     "output_type": "execute_result"
    }
   ],
   "source": [
    "#Formato dos valores de cada coluna do dataset\n",
    "pd.DataFrame(df.dtypes, columns=['Tipo'])"
   ]
  },
  {
   "attachments": {},
   "cell_type": "markdown",
   "metadata": {},
   "source": [
    "### 2.3 Valores nulos"
   ]
  },
  {
   "cell_type": "code",
   "execution_count": 7,
   "metadata": {},
   "outputs": [
    {
     "data": {
      "text/html": [
       "<div>\n",
       "<style scoped>\n",
       "    .dataframe tbody tr th:only-of-type {\n",
       "        vertical-align: middle;\n",
       "    }\n",
       "\n",
       "    .dataframe tbody tr th {\n",
       "        vertical-align: top;\n",
       "    }\n",
       "\n",
       "    .dataframe thead th {\n",
       "        text-align: right;\n",
       "    }\n",
       "</style>\n",
       "<table border=\"1\" class=\"dataframe\">\n",
       "  <thead>\n",
       "    <tr style=\"text-align: right;\">\n",
       "      <th></th>\n",
       "      <th>Valores Vazios</th>\n",
       "    </tr>\n",
       "  </thead>\n",
       "  <tbody>\n",
       "    <tr>\n",
       "      <th>Time</th>\n",
       "      <td>0</td>\n",
       "    </tr>\n",
       "    <tr>\n",
       "      <th>V16</th>\n",
       "      <td>0</td>\n",
       "    </tr>\n",
       "    <tr>\n",
       "      <th>Amount</th>\n",
       "      <td>0</td>\n",
       "    </tr>\n",
       "    <tr>\n",
       "      <th>V28</th>\n",
       "      <td>0</td>\n",
       "    </tr>\n",
       "    <tr>\n",
       "      <th>V27</th>\n",
       "      <td>0</td>\n",
       "    </tr>\n",
       "    <tr>\n",
       "      <th>V26</th>\n",
       "      <td>0</td>\n",
       "    </tr>\n",
       "    <tr>\n",
       "      <th>V25</th>\n",
       "      <td>0</td>\n",
       "    </tr>\n",
       "    <tr>\n",
       "      <th>V24</th>\n",
       "      <td>0</td>\n",
       "    </tr>\n",
       "    <tr>\n",
       "      <th>V23</th>\n",
       "      <td>0</td>\n",
       "    </tr>\n",
       "    <tr>\n",
       "      <th>V22</th>\n",
       "      <td>0</td>\n",
       "    </tr>\n",
       "    <tr>\n",
       "      <th>V21</th>\n",
       "      <td>0</td>\n",
       "    </tr>\n",
       "    <tr>\n",
       "      <th>V20</th>\n",
       "      <td>0</td>\n",
       "    </tr>\n",
       "    <tr>\n",
       "      <th>V19</th>\n",
       "      <td>0</td>\n",
       "    </tr>\n",
       "    <tr>\n",
       "      <th>V18</th>\n",
       "      <td>0</td>\n",
       "    </tr>\n",
       "    <tr>\n",
       "      <th>V17</th>\n",
       "      <td>0</td>\n",
       "    </tr>\n",
       "    <tr>\n",
       "      <th>V15</th>\n",
       "      <td>0</td>\n",
       "    </tr>\n",
       "    <tr>\n",
       "      <th>V1</th>\n",
       "      <td>0</td>\n",
       "    </tr>\n",
       "    <tr>\n",
       "      <th>V14</th>\n",
       "      <td>0</td>\n",
       "    </tr>\n",
       "    <tr>\n",
       "      <th>V13</th>\n",
       "      <td>0</td>\n",
       "    </tr>\n",
       "    <tr>\n",
       "      <th>V12</th>\n",
       "      <td>0</td>\n",
       "    </tr>\n",
       "    <tr>\n",
       "      <th>V11</th>\n",
       "      <td>0</td>\n",
       "    </tr>\n",
       "    <tr>\n",
       "      <th>V10</th>\n",
       "      <td>0</td>\n",
       "    </tr>\n",
       "    <tr>\n",
       "      <th>V9</th>\n",
       "      <td>0</td>\n",
       "    </tr>\n",
       "    <tr>\n",
       "      <th>V8</th>\n",
       "      <td>0</td>\n",
       "    </tr>\n",
       "    <tr>\n",
       "      <th>V7</th>\n",
       "      <td>0</td>\n",
       "    </tr>\n",
       "    <tr>\n",
       "      <th>V6</th>\n",
       "      <td>0</td>\n",
       "    </tr>\n",
       "    <tr>\n",
       "      <th>V5</th>\n",
       "      <td>0</td>\n",
       "    </tr>\n",
       "    <tr>\n",
       "      <th>V4</th>\n",
       "      <td>0</td>\n",
       "    </tr>\n",
       "    <tr>\n",
       "      <th>V3</th>\n",
       "      <td>0</td>\n",
       "    </tr>\n",
       "    <tr>\n",
       "      <th>V2</th>\n",
       "      <td>0</td>\n",
       "    </tr>\n",
       "    <tr>\n",
       "      <th>Class</th>\n",
       "      <td>0</td>\n",
       "    </tr>\n",
       "  </tbody>\n",
       "</table>\n",
       "</div>"
      ],
      "text/plain": [
       "        Valores Vazios\n",
       "Time                 0\n",
       "V16                  0\n",
       "Amount               0\n",
       "V28                  0\n",
       "V27                  0\n",
       "V26                  0\n",
       "V25                  0\n",
       "V24                  0\n",
       "V23                  0\n",
       "V22                  0\n",
       "V21                  0\n",
       "V20                  0\n",
       "V19                  0\n",
       "V18                  0\n",
       "V17                  0\n",
       "V15                  0\n",
       "V1                   0\n",
       "V14                  0\n",
       "V13                  0\n",
       "V12                  0\n",
       "V11                  0\n",
       "V10                  0\n",
       "V9                   0\n",
       "V8                   0\n",
       "V7                   0\n",
       "V6                   0\n",
       "V5                   0\n",
       "V4                   0\n",
       "V3                   0\n",
       "V2                   0\n",
       "Class                0"
      ]
     },
     "execution_count": 7,
     "metadata": {},
     "output_type": "execute_result"
    }
   ],
   "source": [
    "#Verificação de valores ausentes\n",
    "pd.DataFrame(df.isnull().sum().sort_values(ascending=False), columns=['Valores Vazios'])"
   ]
  },
  {
   "attachments": {},
   "cell_type": "markdown",
   "metadata": {},
   "source": [
    "### 2.4 Informações estatísticas básicas\n",
    "Aqui temos algumas informações estatísticas básicas, tipo média, mediana, desvio padrão, quarts, etc. Essas informações nos ajudam a melhore entender a distribuição dos dados e a presença de outliers."
   ]
  },
  {
   "cell_type": "code",
   "execution_count": 8,
   "metadata": {},
   "outputs": [
    {
     "data": {
      "text/html": [
       "<div>\n",
       "<style scoped>\n",
       "    .dataframe tbody tr th:only-of-type {\n",
       "        vertical-align: middle;\n",
       "    }\n",
       "\n",
       "    .dataframe tbody tr th {\n",
       "        vertical-align: top;\n",
       "    }\n",
       "\n",
       "    .dataframe thead th {\n",
       "        text-align: right;\n",
       "    }\n",
       "</style>\n",
       "<table border=\"1\" class=\"dataframe\">\n",
       "  <thead>\n",
       "    <tr style=\"text-align: right;\">\n",
       "      <th></th>\n",
       "      <th>Time</th>\n",
       "      <th>V1</th>\n",
       "      <th>V2</th>\n",
       "      <th>V3</th>\n",
       "      <th>V4</th>\n",
       "      <th>V5</th>\n",
       "      <th>V6</th>\n",
       "      <th>V7</th>\n",
       "      <th>V8</th>\n",
       "      <th>V9</th>\n",
       "      <th>...</th>\n",
       "      <th>V21</th>\n",
       "      <th>V22</th>\n",
       "      <th>V23</th>\n",
       "      <th>V24</th>\n",
       "      <th>V25</th>\n",
       "      <th>V26</th>\n",
       "      <th>V27</th>\n",
       "      <th>V28</th>\n",
       "      <th>Amount</th>\n",
       "      <th>Class</th>\n",
       "    </tr>\n",
       "  </thead>\n",
       "  <tbody>\n",
       "    <tr>\n",
       "      <th>count</th>\n",
       "      <td>284807.000000</td>\n",
       "      <td>2.848070e+05</td>\n",
       "      <td>2.848070e+05</td>\n",
       "      <td>2.848070e+05</td>\n",
       "      <td>2.848070e+05</td>\n",
       "      <td>2.848070e+05</td>\n",
       "      <td>2.848070e+05</td>\n",
       "      <td>2.848070e+05</td>\n",
       "      <td>2.848070e+05</td>\n",
       "      <td>2.848070e+05</td>\n",
       "      <td>...</td>\n",
       "      <td>2.848070e+05</td>\n",
       "      <td>2.848070e+05</td>\n",
       "      <td>2.848070e+05</td>\n",
       "      <td>2.848070e+05</td>\n",
       "      <td>2.848070e+05</td>\n",
       "      <td>2.848070e+05</td>\n",
       "      <td>2.848070e+05</td>\n",
       "      <td>2.848070e+05</td>\n",
       "      <td>284807.000000</td>\n",
       "      <td>284807.000000</td>\n",
       "    </tr>\n",
       "    <tr>\n",
       "      <th>mean</th>\n",
       "      <td>94813.859575</td>\n",
       "      <td>1.168375e-15</td>\n",
       "      <td>3.416908e-16</td>\n",
       "      <td>-1.379537e-15</td>\n",
       "      <td>2.074095e-15</td>\n",
       "      <td>9.604066e-16</td>\n",
       "      <td>1.487313e-15</td>\n",
       "      <td>-5.556467e-16</td>\n",
       "      <td>1.213481e-16</td>\n",
       "      <td>-2.406331e-15</td>\n",
       "      <td>...</td>\n",
       "      <td>1.654067e-16</td>\n",
       "      <td>-3.568593e-16</td>\n",
       "      <td>2.578648e-16</td>\n",
       "      <td>4.473266e-15</td>\n",
       "      <td>5.340915e-16</td>\n",
       "      <td>1.683437e-15</td>\n",
       "      <td>-3.660091e-16</td>\n",
       "      <td>-1.227390e-16</td>\n",
       "      <td>88.349619</td>\n",
       "      <td>0.001727</td>\n",
       "    </tr>\n",
       "    <tr>\n",
       "      <th>std</th>\n",
       "      <td>47488.145955</td>\n",
       "      <td>1.958696e+00</td>\n",
       "      <td>1.651309e+00</td>\n",
       "      <td>1.516255e+00</td>\n",
       "      <td>1.415869e+00</td>\n",
       "      <td>1.380247e+00</td>\n",
       "      <td>1.332271e+00</td>\n",
       "      <td>1.237094e+00</td>\n",
       "      <td>1.194353e+00</td>\n",
       "      <td>1.098632e+00</td>\n",
       "      <td>...</td>\n",
       "      <td>7.345240e-01</td>\n",
       "      <td>7.257016e-01</td>\n",
       "      <td>6.244603e-01</td>\n",
       "      <td>6.056471e-01</td>\n",
       "      <td>5.212781e-01</td>\n",
       "      <td>4.822270e-01</td>\n",
       "      <td>4.036325e-01</td>\n",
       "      <td>3.300833e-01</td>\n",
       "      <td>250.120109</td>\n",
       "      <td>0.041527</td>\n",
       "    </tr>\n",
       "    <tr>\n",
       "      <th>min</th>\n",
       "      <td>0.000000</td>\n",
       "      <td>-5.640751e+01</td>\n",
       "      <td>-7.271573e+01</td>\n",
       "      <td>-4.832559e+01</td>\n",
       "      <td>-5.683171e+00</td>\n",
       "      <td>-1.137433e+02</td>\n",
       "      <td>-2.616051e+01</td>\n",
       "      <td>-4.355724e+01</td>\n",
       "      <td>-7.321672e+01</td>\n",
       "      <td>-1.343407e+01</td>\n",
       "      <td>...</td>\n",
       "      <td>-3.483038e+01</td>\n",
       "      <td>-1.093314e+01</td>\n",
       "      <td>-4.480774e+01</td>\n",
       "      <td>-2.836627e+00</td>\n",
       "      <td>-1.029540e+01</td>\n",
       "      <td>-2.604551e+00</td>\n",
       "      <td>-2.256568e+01</td>\n",
       "      <td>-1.543008e+01</td>\n",
       "      <td>0.000000</td>\n",
       "      <td>0.000000</td>\n",
       "    </tr>\n",
       "    <tr>\n",
       "      <th>25%</th>\n",
       "      <td>54201.500000</td>\n",
       "      <td>-9.203734e-01</td>\n",
       "      <td>-5.985499e-01</td>\n",
       "      <td>-8.903648e-01</td>\n",
       "      <td>-8.486401e-01</td>\n",
       "      <td>-6.915971e-01</td>\n",
       "      <td>-7.682956e-01</td>\n",
       "      <td>-5.540759e-01</td>\n",
       "      <td>-2.086297e-01</td>\n",
       "      <td>-6.430976e-01</td>\n",
       "      <td>...</td>\n",
       "      <td>-2.283949e-01</td>\n",
       "      <td>-5.423504e-01</td>\n",
       "      <td>-1.618463e-01</td>\n",
       "      <td>-3.545861e-01</td>\n",
       "      <td>-3.171451e-01</td>\n",
       "      <td>-3.269839e-01</td>\n",
       "      <td>-7.083953e-02</td>\n",
       "      <td>-5.295979e-02</td>\n",
       "      <td>5.600000</td>\n",
       "      <td>0.000000</td>\n",
       "    </tr>\n",
       "    <tr>\n",
       "      <th>50%</th>\n",
       "      <td>84692.000000</td>\n",
       "      <td>1.810880e-02</td>\n",
       "      <td>6.548556e-02</td>\n",
       "      <td>1.798463e-01</td>\n",
       "      <td>-1.984653e-02</td>\n",
       "      <td>-5.433583e-02</td>\n",
       "      <td>-2.741871e-01</td>\n",
       "      <td>4.010308e-02</td>\n",
       "      <td>2.235804e-02</td>\n",
       "      <td>-5.142873e-02</td>\n",
       "      <td>...</td>\n",
       "      <td>-2.945017e-02</td>\n",
       "      <td>6.781943e-03</td>\n",
       "      <td>-1.119293e-02</td>\n",
       "      <td>4.097606e-02</td>\n",
       "      <td>1.659350e-02</td>\n",
       "      <td>-5.213911e-02</td>\n",
       "      <td>1.342146e-03</td>\n",
       "      <td>1.124383e-02</td>\n",
       "      <td>22.000000</td>\n",
       "      <td>0.000000</td>\n",
       "    </tr>\n",
       "    <tr>\n",
       "      <th>75%</th>\n",
       "      <td>139320.500000</td>\n",
       "      <td>1.315642e+00</td>\n",
       "      <td>8.037239e-01</td>\n",
       "      <td>1.027196e+00</td>\n",
       "      <td>7.433413e-01</td>\n",
       "      <td>6.119264e-01</td>\n",
       "      <td>3.985649e-01</td>\n",
       "      <td>5.704361e-01</td>\n",
       "      <td>3.273459e-01</td>\n",
       "      <td>5.971390e-01</td>\n",
       "      <td>...</td>\n",
       "      <td>1.863772e-01</td>\n",
       "      <td>5.285536e-01</td>\n",
       "      <td>1.476421e-01</td>\n",
       "      <td>4.395266e-01</td>\n",
       "      <td>3.507156e-01</td>\n",
       "      <td>2.409522e-01</td>\n",
       "      <td>9.104512e-02</td>\n",
       "      <td>7.827995e-02</td>\n",
       "      <td>77.165000</td>\n",
       "      <td>0.000000</td>\n",
       "    </tr>\n",
       "    <tr>\n",
       "      <th>max</th>\n",
       "      <td>172792.000000</td>\n",
       "      <td>2.454930e+00</td>\n",
       "      <td>2.205773e+01</td>\n",
       "      <td>9.382558e+00</td>\n",
       "      <td>1.687534e+01</td>\n",
       "      <td>3.480167e+01</td>\n",
       "      <td>7.330163e+01</td>\n",
       "      <td>1.205895e+02</td>\n",
       "      <td>2.000721e+01</td>\n",
       "      <td>1.559499e+01</td>\n",
       "      <td>...</td>\n",
       "      <td>2.720284e+01</td>\n",
       "      <td>1.050309e+01</td>\n",
       "      <td>2.252841e+01</td>\n",
       "      <td>4.584549e+00</td>\n",
       "      <td>7.519589e+00</td>\n",
       "      <td>3.517346e+00</td>\n",
       "      <td>3.161220e+01</td>\n",
       "      <td>3.384781e+01</td>\n",
       "      <td>25691.160000</td>\n",
       "      <td>1.000000</td>\n",
       "    </tr>\n",
       "  </tbody>\n",
       "</table>\n",
       "<p>8 rows × 31 columns</p>\n",
       "</div>"
      ],
      "text/plain": [
       "                Time            V1            V2            V3            V4  \\\n",
       "count  284807.000000  2.848070e+05  2.848070e+05  2.848070e+05  2.848070e+05   \n",
       "mean    94813.859575  1.168375e-15  3.416908e-16 -1.379537e-15  2.074095e-15   \n",
       "std     47488.145955  1.958696e+00  1.651309e+00  1.516255e+00  1.415869e+00   \n",
       "min         0.000000 -5.640751e+01 -7.271573e+01 -4.832559e+01 -5.683171e+00   \n",
       "25%     54201.500000 -9.203734e-01 -5.985499e-01 -8.903648e-01 -8.486401e-01   \n",
       "50%     84692.000000  1.810880e-02  6.548556e-02  1.798463e-01 -1.984653e-02   \n",
       "75%    139320.500000  1.315642e+00  8.037239e-01  1.027196e+00  7.433413e-01   \n",
       "max    172792.000000  2.454930e+00  2.205773e+01  9.382558e+00  1.687534e+01   \n",
       "\n",
       "                 V5            V6            V7            V8            V9  \\\n",
       "count  2.848070e+05  2.848070e+05  2.848070e+05  2.848070e+05  2.848070e+05   \n",
       "mean   9.604066e-16  1.487313e-15 -5.556467e-16  1.213481e-16 -2.406331e-15   \n",
       "std    1.380247e+00  1.332271e+00  1.237094e+00  1.194353e+00  1.098632e+00   \n",
       "min   -1.137433e+02 -2.616051e+01 -4.355724e+01 -7.321672e+01 -1.343407e+01   \n",
       "25%   -6.915971e-01 -7.682956e-01 -5.540759e-01 -2.086297e-01 -6.430976e-01   \n",
       "50%   -5.433583e-02 -2.741871e-01  4.010308e-02  2.235804e-02 -5.142873e-02   \n",
       "75%    6.119264e-01  3.985649e-01  5.704361e-01  3.273459e-01  5.971390e-01   \n",
       "max    3.480167e+01  7.330163e+01  1.205895e+02  2.000721e+01  1.559499e+01   \n",
       "\n",
       "       ...           V21           V22           V23           V24  \\\n",
       "count  ...  2.848070e+05  2.848070e+05  2.848070e+05  2.848070e+05   \n",
       "mean   ...  1.654067e-16 -3.568593e-16  2.578648e-16  4.473266e-15   \n",
       "std    ...  7.345240e-01  7.257016e-01  6.244603e-01  6.056471e-01   \n",
       "min    ... -3.483038e+01 -1.093314e+01 -4.480774e+01 -2.836627e+00   \n",
       "25%    ... -2.283949e-01 -5.423504e-01 -1.618463e-01 -3.545861e-01   \n",
       "50%    ... -2.945017e-02  6.781943e-03 -1.119293e-02  4.097606e-02   \n",
       "75%    ...  1.863772e-01  5.285536e-01  1.476421e-01  4.395266e-01   \n",
       "max    ...  2.720284e+01  1.050309e+01  2.252841e+01  4.584549e+00   \n",
       "\n",
       "                V25           V26           V27           V28         Amount  \\\n",
       "count  2.848070e+05  2.848070e+05  2.848070e+05  2.848070e+05  284807.000000   \n",
       "mean   5.340915e-16  1.683437e-15 -3.660091e-16 -1.227390e-16      88.349619   \n",
       "std    5.212781e-01  4.822270e-01  4.036325e-01  3.300833e-01     250.120109   \n",
       "min   -1.029540e+01 -2.604551e+00 -2.256568e+01 -1.543008e+01       0.000000   \n",
       "25%   -3.171451e-01 -3.269839e-01 -7.083953e-02 -5.295979e-02       5.600000   \n",
       "50%    1.659350e-02 -5.213911e-02  1.342146e-03  1.124383e-02      22.000000   \n",
       "75%    3.507156e-01  2.409522e-01  9.104512e-02  7.827995e-02      77.165000   \n",
       "max    7.519589e+00  3.517346e+00  3.161220e+01  3.384781e+01   25691.160000   \n",
       "\n",
       "               Class  \n",
       "count  284807.000000  \n",
       "mean        0.001727  \n",
       "std         0.041527  \n",
       "min         0.000000  \n",
       "25%         0.000000  \n",
       "50%         0.000000  \n",
       "75%         0.000000  \n",
       "max         1.000000  \n",
       "\n",
       "[8 rows x 31 columns]"
      ]
     },
     "execution_count": 8,
     "metadata": {},
     "output_type": "execute_result"
    }
   ],
   "source": [
    "#Resumo estatístico do dataframe\n",
    "df.describe()"
   ]
  },
  {
   "cell_type": "code",
   "execution_count": 9,
   "metadata": {},
   "outputs": [
    {
     "data": {
      "image/png": "[encoded data removed]",
      "text/plain": [
       "<Figure size 864x576 with 2 Axes>"
      ]
     },
     "metadata": {
      "needs_background": "light"
     },
     "output_type": "display_data"
    }
   ],
   "source": [
    "#Cores e rótulos do eixo y\n",
    "wine = '#A8031F'\n",
    "forest = '#00A820'\n",
    "cyan = '#00DEF5'\n",
    "orange = '#F5711F'\n",
    "blue = '#00A4A8'\n",
    "gray_title = '#3C445E'\n",
    "gray_subtitle = '#A1A3AB'\n",
    "\n",
    "#Histograma Amount\n",
    "fig, (ax1, ax2) = plt.subplots(ncols=1, nrows=2, figsize=(12, 8))\n",
    "\n",
    "#Configuração de aparência (Histograma SEM)\n",
    "ax1.hist(df['Amount'][df['Class'] == 0] , bins=10, color=blue);\n",
    "\n",
    "ax1.text(x=-5.5, y=340000, s='Histograma do campo \"Amount\" SEM casos de fraude', fontsize=16, fontweight='bold', \n",
    "        color=gray_title)\n",
    "ax1.text(x=-5.5, y=310000, s='O gráfico detalha como estão distribuidos os casos sem fraude por valor da transferência', \n",
    "        fontsize=12, color=gray_subtitle)\n",
    "\n",
    "ax1.spines['top'].set_visible(False)\n",
    "ax1.spines['right'].set_visible(False)\n",
    "\n",
    "ax1.set_ylabel('')\n",
    "ax1.set_yticklabels(['0', '50K', '100K', '150K', '200K', '250K'])\n",
    "\n",
    "for i in ax1.patches:\n",
    "  ax1.text(i.get_x() + i.get_width() / 2, i.get_height()+4000,\n",
    "          '{:,}'.format(int(i.get_height())).replace(',','.'),\n",
    "          ha = 'center', \n",
    "          color = '#4B5475', \n",
    "          fontsize = 12)\n",
    "\n",
    "#Configuração de aparência (Histograma COM)\n",
    "ax2.hist(df['Amount'][df['Class'] == 1] , bins=10, color=orange)\n",
    "\n",
    "ax2.text(x=-0.8, y=490, s='Histograma do campo \"Amount\" COM casos de fraude', fontsize=16, fontweight='bold', \n",
    "        color=gray_title)\n",
    "ax2.text(x=-0.8, y=450, s='O gráfico detalha como estão distribuidos os casos com fraude por valor da transferência', \n",
    "        fontsize=12, color=gray_subtitle)\n",
    "\n",
    "ax2.spines['top'].set_visible(False)\n",
    "ax2.spines['right'].set_visible(False)\n",
    "\n",
    "ax2.set_ylabel('')\n",
    "\n",
    "for i in ax2.patches:\n",
    "  ax2.text(i.get_x() + i.get_width() / 2, i.get_height()+5,\n",
    "          '{:,}'.format(int(i.get_height())).replace(',','.'),\n",
    "          ha = 'center', \n",
    "          color = '#4B5475', \n",
    "          fontsize = 12)\n",
    "\n",
    "plt.tight_layout()"
   ]
  },
  {
   "cell_type": "code",
   "execution_count": 10,
   "metadata": {},
   "outputs": [
    {
     "data": {
      "image/png": "[encoded data removed]",
      "text/plain": [
       "<Figure size 1440x360 with 2 Axes>"
      ]
     },
     "metadata": {
      "needs_background": "light"
     },
     "output_type": "display_data"
    }
   ],
   "source": [
    "colors = ['#F5711F','#00A4A8']\n",
    "\n",
    "fraud = len(df[df['Class'] == 1]) / len(df) * 100\n",
    "nofraud = len(df[df['Class'] == 0]) / len(df) * 100\n",
    "fraud_percentage = [nofraud,fraud]\n",
    "\n",
    "fig,ax = plt.subplots(nrows = 1,ncols = 2,figsize = (20,5))\n",
    "plt.subplot(1,2,1)\n",
    "plt.pie(fraud_percentage,labels = ['Fraud','No Fraud'],autopct='%1.1f%%',startangle = 90,colors = colors,\n",
    "       wedgeprops = {'edgecolor' : 'black','linewidth': 1,'antialiased' : True})\n",
    "\n",
    "plt.subplot(1,2,2)\n",
    "ax = sns.countplot('Class',data = df,edgecolor = 'black',palette = colors)\n",
    "for rect in ax.patches:\n",
    "    ax.text(rect.get_x() + rect.get_width() / 2, rect.get_height() + 2, rect.get_height(), horizontalalignment='center', fontsize = 11)\n",
    "ax.set_xticklabels(['No Fraud','Fraud'])\n",
    "plt.title('Number of Fraud Cases');"
   ]
  },
  {
   "attachments": {},
   "cell_type": "markdown",
   "metadata": {},
   "source": [
    "Percebemos que a maior parte dos registros não são de fraudes. Isso pode dificultar o treino do modelo, uma vez que existe um viés nos dados.\n",
    "\n",
    "Para contornar esse ponto, deveremos fazer o balanceamento dos dados, bem como a padronização."
   ]
  },
  {
   "cell_type": "code",
   "execution_count": 11,
   "metadata": {},
   "outputs": [
    {
     "data": {
      "image/png": "[encoded data removed]",
      "text/plain": [
       "<Figure size 864x288 with 1 Axes>"
      ]
     },
     "metadata": {
      "needs_background": "light"
     },
     "output_type": "display_data"
    }
   ],
   "source": [
    "#Boxplot de amount\n",
    "fig, ax = plt.subplots(figsize=(12, 4))\n",
    "\n",
    "df.loc[df['Class'] == 1].boxplot(['Amount'], vert=False, ax=ax)\n",
    "\n",
    "plt.tight_layout()"
   ]
  },
  {
   "attachments": {},
   "cell_type": "markdown",
   "metadata": {},
   "source": [
    "A partir do bloxplot acima, podemos analisar que existem outliers no campo `Amount`"
   ]
  },
  {
   "cell_type": "code",
   "execution_count": 12,
   "metadata": {},
   "outputs": [
    {
     "data": {
      "image/png": "[encoded data removed]",
      "text/plain": [
       "<Figure size 1296x1296 with 28 Axes>"
      ]
     },
     "metadata": {
      "needs_background": "light"
     },
     "output_type": "display_data"
    }
   ],
   "source": [
    "#Kernel Density Estimate de todos os atributos da base para identificar os atributos mais distintos\n",
    "\n",
    "column_names = df.drop(['Class','Amount','Time'], axis=1).columns #remove as colunas que não são nomeadas\n",
    "num_plots = len(column_names) #define a quantidade de gráficos\n",
    "df_class_0 = df[df['Class'] == 0] #define os dados do gráfico 1\n",
    "df_class_1 = df[df['Class'] == 1] #define os dados do gráfico 2\n",
    "\n",
    "fig, ax = plt.subplots(nrows=7, ncols=4, figsize=(18, 18)) #cria a figura e espaço para a plotagem dos 28 graficos\n",
    "fig.subplots_adjust(hspace=1, wspace=1) #ajusta o espaço entre os 28 gráficos\n",
    "\n",
    "idx = 0 #contador\n",
    "for col in column_names:\n",
    "  idx += 1 #\n",
    "  plt.subplot(7, 4, idx) #Define o espaçp onde cada gráfico será plotado\n",
    "  sns.kdeplot(df_class_0[col], label=\"Class 0\", shade=True, color=\"blue\") #cria o gráfico de onda utilizando os dados de Vx da Classe 0\n",
    "  sns.kdeplot(df_class_1[col], label=\"Class 1\", shade=True, color=\"orange\") #cria o gráfico de onda utilizando os dados de Vx da Classe 1\n",
    "  plt.title(col, fontsize=10) #\n",
    "plt.tight_layout() "
   ]
  },
  {
   "attachments": {},
   "cell_type": "markdown",
   "metadata": {},
   "source": [
    "Notamos que algumas variáveis possuem distribuições iguais do campo `Class`, quando este é igual a 0 (sem fraude) em comparação quando este é igual a 1 (com fraude)."
   ]
  },
  {
   "attachments": {},
   "cell_type": "markdown",
   "metadata": {},
   "source": [
    "# 3. Modelo Preditivo\n",
    "Após a análise exploratória dos dados e verificado o formato dos dados, valores nulos e/ou outliers, daremos inicio ndas etapas para criar o modelo preditivo.\n",
    "As proximas etapas são:\n",
    "* Balancemaneto dos dados, caso seja necessário;\n",
    "* Padronização dos dados, para garantir que todos os dados estejam na mesma escala, ou seja, que classes distintas, com valores distintos, sejam utilizados de forma equânime, ou seja, sem diferença de pesos;\n",
    "* Definição dos hiperparâmetros;\n",
    "* Dividir o dataset em grupos de treino e teste do modelo;\n",
    "* Analisar o predict do modelo, e a taxa de acertividade;\n",
    "* Analisar se todo o modelo foi bem desenvolvido."
   ]
  },
  {
   "attachments": {},
   "cell_type": "markdown",
   "metadata": {},
   "source": [
    "### 3.1 Balanceamento e Padronização"
   ]
  },
  {
   "cell_type": "code",
   "execution_count": 13,
   "metadata": {},
   "outputs": [
    {
     "data": {
      "image/png": "[encoded data removed]",
      "text/plain": [
       "<Figure size 576x360 with 1 Axes>"
      ]
     },
     "metadata": {
      "needs_background": "light"
     },
     "output_type": "display_data"
    }
   ],
   "source": [
    "#balanceamento dos dados\n",
    "\n",
    "case_1 = df['Class'][df['Class'] == 1].count() #qtd. de casos com fraude\n",
    "case_0 = df['Class'][df['Class'] == 0].count() #qtd. de casos sem fraude\n",
    "\n",
    "#gráfico de barras\n",
    "orange = '#F5711F'\n",
    "blue = '#00A4A8'\n",
    "\n",
    "y = ['0', '50K', '100K', '150K', '200K', '250K']\n",
    "\n",
    "fig, ax = plt.subplots(figsize=(8,5))\n",
    "\n",
    "ax.bar('0', case_0, color = blue)\n",
    "ax.bar('1', case_1, color = orange)\n",
    "\n",
    "ax.text(x=-0.48, y=390000, s='Distribuição dos dados no campo \"Class\"', \n",
    "        fontsize=16, fontweight='bold', color=gray_title)\n",
    "ax.text(x=-0.48, y=325000, s='Gráfico de barras do campo \"Class\" da fonte de dados.\\nEle ajuda a comparar o nº de casos onde houve fraude vs. o nº de casos onde\\nnão houve fraude.', \n",
    "        fontsize=12, color=gray_subtitle)\n",
    "\n",
    "#mudança na aparência\n",
    "ax.spines['top'].set_visible(False)\n",
    "ax.spines['right'].set_visible(False)\n",
    "\n",
    "ax.set_yticklabels(y)\n",
    "\n",
    "for i in ax.patches:\n",
    "  ax.text(i.get_x() + i.get_width() / 2, i.get_height() + 4000,\n",
    "          '{:,}'.format(int(i.get_height())).replace(',','.'),\n",
    "          ha = 'center', \n",
    "          color = '#4B5475', \n",
    "          fontsize = 14)\n",
    "\n",
    "plt.tight_layout()"
   ]
  },
  {
   "attachments": {},
   "cell_type": "markdown",
   "metadata": {},
   "source": [
    "O gráfico acima deixa muito claro que existe uma desbalanceamento na classe `Class`. \n",
    "\n",
    "Os casos de fraude representam apenas **0,2%** do total de dados da fonte utilizada. \n",
    "\n",
    "Para garantir que o modelo de machine learning tenha sucesso ao prever os casos de fraude, devemos antes de tudo balancear os dados.\n",
    "\n",
    "Existem várias técnicas em ML com esse propósito, porém as principais são: **Oversampling** e **Undersampling**."
   ]
  },
  {
   "attachments": {},
   "cell_type": "markdown",
   "metadata": {},
   "source": [
    "### 3.1.1 Undersampling\n",
    "A técnica de undersampling busca equilibrar o conjunto de dados através do decréscimo de elementos do grupo com mais entradas de informação.\n",
    "\n",
    "Tal procedimento envolve a remoção de elementos do conjunto maior ate que o grupo maior possua a mesma quantidade que o grupo menor."
   ]
  },
  {
   "attachments": {},
   "cell_type": "markdown",
   "metadata": {},
   "source": [
    "### 3.1.2 Oversampling\n",
    "A técnica de undersampling busca equilibrar o conjunto de dados através do acréscimo de elementos do grupo com mais entradas de informação.\n",
    "\n",
    "Tal procedimento envolve a criação de novos elementos \"sintéticos\" (pois não entradas verdadeiramente presentas na fonde de dados) até que o grupo menor possua a mesma quantidade que o grupo maior.\n",
    "\n",
    "Esta técnica deve ser muito bem avaliada antes do uso, pois, pode parecer vantajoso, mas esse tipo de ocorrência prejudica a capacidade preditiva de um modelo, pois o torna inflexível frente a um novo conjunto de dados."
   ]
  },
  {
   "cell_type": "code",
   "execution_count": 14,
   "metadata": {},
   "outputs": [],
   "source": [
    "#Normalizar Amount e Time\n",
    "\n",
    "df_backup = df.copy() #backup para protegem os dataset em seu estado original\n",
    "\n",
    "#Padronização dos dados\n",
    "from sklearn.preprocessing import StandardScaler\n",
    "\n",
    "scaler = StandardScaler()\n",
    "df['Amount'] = scaler.fit_transform(df['Amount'].values.reshape(-1,1))\n",
    "df['Time'] = scaler.fit_transform(df['Time'].values.reshape(-1,1))"
   ]
  },
  {
   "attachments": {},
   "cell_type": "markdown",
   "metadata": {},
   "source": [
    "### 3.2 Escolha do modelo\n",
    "Usaremos uma regressão logística, modelo ideal para modelos de aprendizagem supervisionados, cujos resultados a serem previstos são no formato de classificação."
   ]
  },
  {
   "cell_type": "code",
   "execution_count": 15,
   "metadata": {},
   "outputs": [],
   "source": [
    "#Escolher do modelo de Machine Learning\n",
    "from sklearn.linear_model import LogisticRegression"
   ]
  },
  {
   "attachments": {},
   "cell_type": "markdown",
   "metadata": {},
   "source": [
    "### 3.3 Hyperparâmetros"
   ]
  },
  {
   "cell_type": "code",
   "execution_count": 16,
   "metadata": {},
   "outputs": [],
   "source": [
    "#Definição dos Hyperparametros\n",
    "model = LogisticRegression('l2')"
   ]
  },
  {
   "attachments": {},
   "cell_type": "markdown",
   "metadata": {},
   "source": [
    "### 3.4 Divisão do dataframe entre `treino` e `teste`"
   ]
  },
  {
   "cell_type": "code",
   "execution_count": 17,
   "metadata": {},
   "outputs": [],
   "source": [
    "#Separaração do Dataframe em conjunto X e conjunto y\n",
    "X = df.drop('Class', axis=1)\n",
    "y = df['Class'].values.reshape(-1,1)"
   ]
  },
  {
   "attachments": {},
   "cell_type": "markdown",
   "metadata": {},
   "source": [
    "### 3.5 Balanceamento dos dados\n",
    "#### 3.5.1 Neste exemplo, utilizados a técnica OVERSAMPLING"
   ]
  },
  {
   "cell_type": "code",
   "execution_count": 18,
   "metadata": {},
   "outputs": [],
   "source": [
    "#Balanceamento do conjunto de dados\n",
    "\n",
    "!pip install imblearn -q\n",
    "from imblearn import under_sampling, over_sampling\n",
    "from imblearn.over_sampling import RandomOverSampler"
   ]
  },
  {
   "cell_type": "code",
   "execution_count": 19,
   "metadata": {},
   "outputs": [
    {
     "data": {
      "image/png": "[encoded data removed]",
      "text/plain": [
       "<Figure size 576x360 with 1 Axes>"
      ]
     },
     "metadata": {
      "needs_background": "light"
     },
     "output_type": "display_data"
    }
   ],
   "source": [
    "#B - Definição dos Hyperparametros\n",
    "ros = RandomOverSampler(random_state=0)\n",
    "\n",
    "#C - Separação dos dados e calculo do fit\n",
    "X_resampled, y_resampled = ros.fit_resample(X, y)\n",
    "\n",
    "#D - Plotagem do gráfico mostrando a nova distribuição\n",
    "\n",
    "bcase_1 = np.count_nonzero(y_resampled == 1) #qtd. de casos com fraude\n",
    "bcase_0 = np.count_nonzero(y_resampled == 0) #qtd. de casos sem fraude\n",
    "\n",
    "y = ['0', '50K', '100K', '150K', '200K', '250K']\n",
    "\n",
    "fig, ax = plt.subplots(figsize=(8,5))\n",
    "\n",
    "ax.bar('0', bcase_0, color = blue)\n",
    "ax.bar('1', bcase_1, color = orange)\n",
    "\n",
    "ax.text(x=-0.5, y=350000, s='Nova distribuição dos dados no campo \"Class\"', \n",
    "        fontsize=16, fontweight='bold', color=gray_title)\n",
    "ax.text(x=-0.5, y=310000, s='Após a aplicação da técnica de oversampling para balanceamento, o gráfico\\nmostra como ficou a nova distribuição dos dados', \n",
    "        fontsize=12, color=gray_subtitle)\n",
    "\n",
    "#mudança na aparência\n",
    "ax.spines['top'].set_visible(False)\n",
    "ax.spines['right'].set_visible(False)\n",
    "\n",
    "ax.set_yticklabels(y)\n",
    "\n",
    "for i in ax.patches:\n",
    "  ax.text(i.get_x() + i.get_width() / 2, i.get_height() + 4000,\n",
    "          '{:,}'.format(int(i.get_height())).replace(',','.'),\n",
    "          ha = 'center', \n",
    "          color = '#4B5475', \n",
    "          fontsize = 14)\n",
    "\n",
    "plt.tight_layout();"
   ]
  },
  {
   "attachments": {},
   "cell_type": "markdown",
   "metadata": {},
   "source": [
    "#### 3.5.2 **Separação dos dados em conjunto de treino e teste** "
   ]
  },
  {
   "cell_type": "code",
   "execution_count": 20,
   "metadata": {},
   "outputs": [],
   "source": [
    "#Separar em Treino e Teste\n",
    "X_train, X_test, y_train, y_test = train_test_split(X_resampled, y_resampled)"
   ]
  },
  {
   "attachments": {},
   "cell_type": "markdown",
   "metadata": {},
   "source": [
    "#### 3.6 **Fit do modelo** \n",
    "\n",
    "Os dados de treino serão utilizados para \"treinar\" o modelo e calcular seu Fit, ou seja, tornar o modelo capaz de identificar padrões nos dados."
   ]
  },
  {
   "cell_type": "code",
   "execution_count": 21,
   "metadata": {},
   "outputs": [
    {
     "data": {
      "text/html": [
       "<style>#sk-container-id-1 {color: black;background-color: white;}#sk-container-id-1 pre{padding: 0;}#sk-container-id-1 div.sk-toggleable {background-color: white;}#sk-container-id-1 label.sk-toggleable__label {cursor: pointer;display: block;width: 100%;margin-bottom: 0;padding: 0.3em;box-sizing: border-box;text-align: center;}#sk-container-id-1 label.sk-toggleable__label-arrow:before {content: \"▸\";float: left;margin-right: 0.25em;color: #696969;}#sk-container-id-1 label.sk-toggleable__label-arrow:hover:before {color: black;}#sk-container-id-1 div.sk-estimator:hover label.sk-toggleable__label-arrow:before {color: black;}#sk-container-id-1 div.sk-toggleable__content {max-height: 0;max-width: 0;overflow: hidden;text-align: left;background-color: #f0f8ff;}#sk-container-id-1 div.sk-toggleable__content pre {margin: 0.2em;color: black;border-radius: 0.25em;background-color: #f0f8ff;}#sk-container-id-1 input.sk-toggleable__control:checked~div.sk-toggleable__content {max-height: 200px;max-width: 100%;overflow: auto;}#sk-container-id-1 input.sk-toggleable__control:checked~label.sk-toggleable__label-arrow:before {content: \"▾\";}#sk-container-id-1 div.sk-estimator input.sk-toggleable__control:checked~label.sk-toggleable__label {background-color: #d4ebff;}#sk-container-id-1 div.sk-label input.sk-toggleable__control:checked~label.sk-toggleable__label {background-color: #d4ebff;}#sk-container-id-1 input.sk-hidden--visually {border: 0;clip: rect(1px 1px 1px 1px);clip: rect(1px, 1px, 1px, 1px);height: 1px;margin: -1px;overflow: hidden;padding: 0;position: absolute;width: 1px;}#sk-container-id-1 div.sk-estimator {font-family: monospace;background-color: #f0f8ff;border: 1px dotted black;border-radius: 0.25em;box-sizing: border-box;margin-bottom: 0.5em;}#sk-container-id-1 div.sk-estimator:hover {background-color: #d4ebff;}#sk-container-id-1 div.sk-parallel-item::after {content: \"\";width: 100%;border-bottom: 1px solid gray;flex-grow: 1;}#sk-container-id-1 div.sk-label:hover label.sk-toggleable__label {background-color: #d4ebff;}#sk-container-id-1 div.sk-serial::before {content: \"\";position: absolute;border-left: 1px solid gray;box-sizing: border-box;top: 0;bottom: 0;left: 50%;z-index: 0;}#sk-container-id-1 div.sk-serial {display: flex;flex-direction: column;align-items: center;background-color: white;padding-right: 0.2em;padding-left: 0.2em;position: relative;}#sk-container-id-1 div.sk-item {position: relative;z-index: 1;}#sk-container-id-1 div.sk-parallel {display: flex;align-items: stretch;justify-content: center;background-color: white;position: relative;}#sk-container-id-1 div.sk-item::before, #sk-container-id-1 div.sk-parallel-item::before {content: \"\";position: absolute;border-left: 1px solid gray;box-sizing: border-box;top: 0;bottom: 0;left: 50%;z-index: -1;}#sk-container-id-1 div.sk-parallel-item {display: flex;flex-direction: column;z-index: 1;position: relative;background-color: white;}#sk-container-id-1 div.sk-parallel-item:first-child::after {align-self: flex-end;width: 50%;}#sk-container-id-1 div.sk-parallel-item:last-child::after {align-self: flex-start;width: 50%;}#sk-container-id-1 div.sk-parallel-item:only-child::after {width: 0;}#sk-container-id-1 div.sk-dashed-wrapped {border: 1px dashed gray;margin: 0 0.4em 0.5em 0.4em;box-sizing: border-box;padding-bottom: 0.4em;background-color: white;}#sk-container-id-1 div.sk-label label {font-family: monospace;font-weight: bold;display: inline-block;line-height: 1.2em;}#sk-container-id-1 div.sk-label-container {text-align: center;}#sk-container-id-1 div.sk-container {/* jupyter's `normalize.less` sets `[hidden] { display: none; }` but bootstrap.min.css set `[hidden] { display: none !important; }` so we also need the `!important` here to be able to override the default hidden behavior on the sphinx rendered scikit-learn.org. See: https://github.com/scikit-learn/scikit-learn/issues/21755 */display: inline-block !important;position: relative;}#sk-container-id-1 div.sk-text-repr-fallback {display: none;}</style><div id=\"sk-container-id-1\" class=\"sk-top-container\"><div class=\"sk-text-repr-fallback\"><pre>LogisticRegression()</pre><b>In a Jupyter environment, please rerun this cell to show the HTML representation or trust the notebook. <br />On GitHub, the HTML representation is unable to render, please try loading this page with nbviewer.org.</b></div><div class=\"sk-container\" hidden><div class=\"sk-item\"><div class=\"sk-estimator sk-toggleable\"><input class=\"sk-toggleable__control sk-hidden--visually\" id=\"sk-estimator-id-1\" type=\"checkbox\" checked><label for=\"sk-estimator-id-1\" class=\"sk-toggleable__label sk-toggleable__label-arrow\">LogisticRegression</label><div class=\"sk-toggleable__content\"><pre>LogisticRegression()</pre></div></div></div></div></div>"
      ],
      "text/plain": [
       "LogisticRegression()"
      ]
     },
     "execution_count": 21,
     "metadata": {},
     "output_type": "execute_result"
    }
   ],
   "source": [
    "#Fit\n",
    "model.fit(X_train, y_train)"
   ]
  },
  {
   "attachments": {},
   "cell_type": "markdown",
   "metadata": {},
   "source": [
    "### 3.7 **Previsão do modelo** \n",
    "\n",
    "Os dados, após passados pelo processo de Fit, são utilizados para prever casos futuros."
   ]
  },
  {
   "cell_type": "code",
   "execution_count": 22,
   "metadata": {},
   "outputs": [],
   "source": [
    "#Predict\n",
    "y_pred = model.predict(X_test)"
   ]
  },
  {
   "attachments": {},
   "cell_type": "markdown",
   "metadata": {},
   "source": [
    "A seguir serão aplicadas algumas técnicas para verificar a qualidade do modelo proposto. As técnicas escolhidas foram:\n",
    "\n",
    "* **R²**: O R-quadrado estima a proporção dos valores da(s) variável(is) que são explicados/previstos pela(s) variável(is) independente(s) em um modelo preditivo. Quanto maior o valor, menor está a distância entre o previsto e o efetivo e, portanto, melhor o modelo. \n",
    "\n",
    "* **MAE (Mean Absolute Error)**: O Erro Médio Absoluto estima a diferença entre os valores estimados pelo modelo e os efetivamente ocorrrido em termos absolutos. Quanto menor o valor, menor está a distância entre o previsto e o efetivo e, portanto, melhor o modelo.  \n",
    "* **MSE (Mean Squared Error)**: O Erro Quadrado Absoluto estima a diferença entre os valores estimados pelo modelo e os efetivamente ocorrrido, ambos elevados ao quadrado. Quanto menor o valor, menor está a distância entre o previsto e o efetivo e, portanto, melhor o modelo. \n",
    "* **Classification Report**:\n",
    "  * **Precision**: Calcula a proporção dos valores corretamente previstos como \"positivos\" (previstos como sendo fraudes) em relação ao total de casos **previstos** como positivos, ou seja, considerando os Falsos Positivos (valores erroneamente classificados como fraudes)\n",
    "  * **Recall**: Calcula a proporção dos valores corretamente previstos como \"positivos\" em relação ao total de casos que **efetivamente** fazem parte do total de casos positivos, ou seja, considerando os Falsos Negativos (valores que são fraudes, mas não foram identificados)\n",
    "* **Confusion Matrix**: A Matriz de Confusão destaca a proporção dos valores separados em 4 grupos de valores:\n",
    "  * TP (True Positives): % dos dados previstos como \"positivo\" (fraude) que realmente eram fraudes \n",
    "  * TN (True Negatives): % dos dados previstos como \"negativos\" (não fraude) que realmente eram não eram fraudes \n",
    "  * FP (False Positives): % dos dados erroneamente previstos como \"positivo\", pois não eram fraudes \n",
    "  * FN (False Negatives): % dos dados erroneamente previstos como \"negativos\", pois eram fraudes "
   ]
  },
  {
   "cell_type": "code",
   "execution_count": 23,
   "metadata": {},
   "outputs": [
    {
     "name": "stdout",
     "output_type": "stream",
     "text": [
      "R² Score: \t0.80\n",
      "MAE: \t\t0.05\n",
      "MSE: \t\t0.05\n",
      "\n",
      "Classification Report\n",
      "               precision    recall  f1-score   support\n",
      "\n",
      "           0       0.93      0.98      0.95     70714\n",
      "           1       0.98      0.92      0.95     71444\n",
      "\n",
      "    accuracy                           0.95    142158\n",
      "   macro avg       0.95      0.95      0.95    142158\n",
      "weighted avg       0.95      0.95      0.95    142158\n",
      "\n",
      "\n"
     ]
    },
    {
     "data": {
      "text/plain": [
       "Text(111.12, 0.5, 'Verdadeiro')"
      ]
     },
     "execution_count": 23,
     "metadata": {},
     "output_type": "execute_result"
    },
    {
     "data": {
      "image/png": "[encoded data removed]",
      "text/plain": [
       "<Figure size 576x432 with 1 Axes>"
      ]
     },
     "metadata": {
      "needs_background": "light"
     },
     "output_type": "display_data"
    }
   ],
   "source": [
    "#Verificação da qualidade do modelo\n",
    "\n",
    "print(\"R² Score: \\t{:.2f}\".format(r2_score(y_test, y_pred)))          #R²\n",
    "print(\"MAE: \\t\\t{:.2f}\".format(mean_absolute_error(y_test, y_pred)))  #MAE\n",
    "print(\"MSE: \\t\\t{:.2f}\\n\".format(mean_squared_error(y_test, y_pred))) #MSE\n",
    "\n",
    "#Classification Report\n",
    "print(f\"Classification Report\\n {classification_report(y_test, y_pred)}\\n\")\n",
    "\n",
    "#Confusion Matrix\n",
    "fig, ax = plt.subplots(figsize=(8, 6))\n",
    "\n",
    "cm = confusion_matrix(y_test, y_pred)\n",
    "cmn = cm.astype('float') / cm.sum(axis=1)[:, np.newaxis]\n",
    "\n",
    "sns.heatmap(cmn, annot=True, cbar=False, \n",
    "            square=True, ax=ax);\n",
    "\n",
    "ax.set_title(\"Matriz de Confusão\")\n",
    "ax.set_xlabel(\"Previsto\")\n",
    "ax.set_ylabel(\"Verdadeiro\")"
   ]
  },
  {
   "attachments": {},
   "cell_type": "markdown",
   "metadata": {},
   "source": [
    "Interessa analisar brevemente os resultados obtidos e o que eles significam para a qualidade do modelo preditivo utilizado.\n",
    "\n",
    "* O R-quadrado de 0.8 indica uma boa capacidade das variáveis independentes de explicar/prever com sucesso a variável dependente (`Class`). Em geral, valores entre 0.8 e 0.9 são considerados muito bons. \n",
    "* Os baixos valores de MAE e MSE (ambos de .05) indicam que os valores previstos são bem próximos dos valores efetivos, reforçando a capacidade do modelo de prever resultados bem proximos dos dados de teste utilizados\n",
    "* Os resultados de Precision e Recall também foram bastante positivos. \n",
    "  * Um resultados de 0.98 em Precision indica que foram poucas vezes que o modelo erroneamente previu casos de fraude. \n",
    "  * Já o resultado de 0.92 em Recall mostra que poucas vezes o modelo deixou de incluir um caso verdadeiro de Fraude.\n",
    "\n",
    "No contexto deste projeto, Recall possui uma relevância maior do que Precision. Identificar um caso erroneamente como fraude pode causar certos atritos com clientes e gerar alguns custos a mais. Entretanto, deixar de identificar um caso como fraude pode resultar em danos muito mais sérios sobre receita, relação com clientes, imagem, etc. Portanto, um modelo que seja mais preciso em seu Recall em detrimento da penalização de Precision é bem mais favorável.\n",
    "\n",
    "Por fim, ao observar a Matriz de Confusão, os valores representam a distribuição percentual dos dados em relação a previsão X real. %2,2 dos casos foram dados previstos como fraude cujos valores não foram de fraude. No outro extremo, 7,9% dos casos foram previstos como não fraude cujos valores foram de fraude. "
   ]
  },
  {
   "attachments": {},
   "cell_type": "markdown",
   "metadata": {},
   "source": [
    "Importa destacar que como os valores utilizados para construção do nosso modelo foram criados a partir de uma técnica de balanceamento, a técnica escolhida possui considerável impacto no resultado obtido, seja positivo ou negativo. \n",
    "\n",
    "Apesar dos valores obtidos serem considerados bons, é interessante examinar se utilizando outros tipos de técnicas de Oversampling seria possível obter resultados mais ótimos para do modelo. Das diversas técnicas existentes, duas merecem destaque: SMOTE e ADASYN."
   ]
  },
  {
   "attachments": {},
   "cell_type": "markdown",
   "metadata": {},
   "source": [
    "### SMOTE (Synthetic Minority Over Sampling Technique)\n",
    "\n",
    "De maneira simplificada, a técnica SMOTE identifica os dados do conjunto minoritário de forma a estabelecer conexões entre cada um dos valores e seus vizinhos mais próximos (ou k-means) de maneira a criar um \"espaço\" para este grupo. A partir disto, novos valores são criados ao longo do intervalo de distância que existe entre os valores originais. \n",
    "\n",
    "Por um lado o procedimento é vantajoso, pois permite criar valores fidedignos, pois estão localizados em um espectro próximo ao de valores originais. Entretanto, esta técnica também pode ser desvantajosa, pois não considera os valores do grupo majoritátio em sua confecção. A figura abaixo representa como funciona o procedimento. \n",
    "\n",
    "Para um entendimento mais extenso desta técnica, recomendo o seguinte [artigo explicando a técnica](https://machinelearningmastery.com/smote-oversampling-for-imbalanced-classification/) e o seguinte [video explicando a lógica e como executá-la em Python](https://www.youtube.com/watch?v=U3X98xZ4_no&t=392s).\n",
    "\n",
    "<img src=\"https://iq.opengenus.org/content/images/2019/09/COVER-1.PNG\">"
   ]
  },
  {
   "cell_type": "code",
   "execution_count": 24,
   "metadata": {},
   "outputs": [],
   "source": [
    "#Importação da técnica SMOTE de oversampling\n",
    "from imblearn.over_sampling import SMOTE"
   ]
  },
  {
   "attachments": {},
   "cell_type": "markdown",
   "metadata": {},
   "source": [
    "Todos os demais procedimentos abaixo seguem os mesmos princípios utilizados anteriormente. Alguns passos não foram repetidos, pois já foram executados anteriormente e estão citados como forma de facilitar o entendimento de como funcionaria o procedimento caso executado pela primeira vez."
   ]
  },
  {
   "attachments": {},
   "cell_type": "markdown",
   "metadata": {},
   "source": [
    "### Logistic Regression"
   ]
  },
  {
   "cell_type": "code",
   "execution_count": 25,
   "metadata": {},
   "outputs": [],
   "source": [
    "#1 - Escolha do Modelo (FEITO)\n",
    "\n",
    "#2 - Hyperparametros (FEITO)\n",
    "\n",
    "#3 - Separar\n",
    "X = df.drop('Class', axis=1)\n",
    "y = df['Class'].values.reshape(-1,1)"
   ]
  },
  {
   "cell_type": "code",
   "execution_count": 26,
   "metadata": {},
   "outputs": [],
   "source": [
    "#B - Hyperparametros\n",
    "sm = SMOTE(random_state=0) #Aplicação do método SMOTE em vez de Random Sampling\n",
    "\n",
    "#C - Separar dados\n",
    "X_resampled, y_resampled = sm.fit_resample(X, y) #Criação dos dados em Class"
   ]
  },
  {
   "cell_type": "code",
   "execution_count": 27,
   "metadata": {},
   "outputs": [],
   "source": [
    "#3.1 - Separar em Treino e Teste\n",
    "X_train, X_test, y_train, y_test = train_test_split(X_resampled, y_resampled)\n",
    "\n",
    "#4 - Fit\n",
    "model.fit(X_train, y_train)\n",
    "\n",
    "#5 - Predict\n",
    "y_pred = model.predict(X_test)"
   ]
  },
  {
   "cell_type": "code",
   "execution_count": 28,
   "metadata": {},
   "outputs": [
    {
     "name": "stdout",
     "output_type": "stream",
     "text": [
      "R² Score: \t0.79\n",
      "MAE: \t\t0.05\n",
      "MSE: \t\t0.05\n",
      "\n",
      "Classification Report\n",
      "               precision    recall  f1-score   support\n",
      "\n",
      "           0       0.92      0.98      0.95     71258\n",
      "           1       0.97      0.92      0.95     70900\n",
      "\n",
      "    accuracy                           0.95    142158\n",
      "   macro avg       0.95      0.95      0.95    142158\n",
      "weighted avg       0.95      0.95      0.95    142158\n",
      "\n",
      "\n"
     ]
    },
    {
     "data": {
      "text/plain": [
       "Text(111.12, 0.5, 'Verdadeiro')"
      ]
     },
     "execution_count": 28,
     "metadata": {},
     "output_type": "execute_result"
    },
    {
     "data": {
      "image/png": "[encoded data removed]",
      "text/plain": [
       "<Figure size 576x432 with 1 Axes>"
      ]
     },
     "metadata": {
      "needs_background": "light"
     },
     "output_type": "display_data"
    }
   ],
   "source": [
    "#Verificação da qualidade do modelo\n",
    "\n",
    "print(\"R² Score: \\t{:.2f}\".format(r2_score(y_test, y_pred)))          #R²\n",
    "print(\"MAE: \\t\\t{:.2f}\".format(mean_absolute_error(y_test, y_pred)))  #MAE\n",
    "print(\"MSE: \\t\\t{:.2f}\\n\".format(mean_squared_error(y_test, y_pred))) #MSE\n",
    "\n",
    "#Classification Report\n",
    "print(f\"Classification Report\\n {classification_report(y_test, y_pred)}\\n\")\n",
    "\n",
    "#Confusion Matrix\n",
    "fig, ax = plt.subplots(figsize=(8, 6))\n",
    "\n",
    "cm = confusion_matrix(y_test, y_pred)\n",
    "cmn = cm.astype('float') / cm.sum(axis=1)[:, np.newaxis]\n",
    "\n",
    "sns.heatmap(cmn, annot=True, cbar=False, \n",
    "            square=True, ax=ax);\n",
    "\n",
    "ax.set_title(\"Matriz de Confusão\")\n",
    "ax.set_xlabel(\"Previsto\")\n",
    "ax.set_ylabel(\"Verdadeiro\")"
   ]
  },
  {
   "attachments": {},
   "cell_type": "markdown",
   "metadata": {},
   "source": [
    "### ADASYN (Adaptative Synthetic)\n",
    "\n",
    "Similar ao SMOTE, esta técnica também busca criar novos valores para o grupo minoritário considerando a localização dos valores e o espaço de distância entre eles. Entretanto, esta técnica se diferencia da SMOTE em um aspecto chave. Os valores gerados pela técnica ADASYN ao utilizar a densidade de acumulo de valores como critério. Em outras palavras, a técnica gera mais valores onde existe uma baixa concentração de casos reais no espectro minoritário e cria menos valores onde existe uma alta concentração de casos reais. A imagem abaixo representa a diferença das técnicas SMOTE e ADASYN respectivamente.\n",
    "\n",
    "<img src=\"https://www.researchgate.net/publication/348078650/figure/fig3/AS:975004695003136@1609470642047/Difference-between-ADASYN-and-SMOTE-algorithms.ppm\">\n"
   ]
  },
  {
   "cell_type": "code",
   "execution_count": 29,
   "metadata": {},
   "outputs": [],
   "source": [
    "#Importação da técnica ADASYN de oversampling\n",
    "from imblearn.over_sampling import ADASYN"
   ]
  },
  {
   "cell_type": "code",
   "execution_count": 30,
   "metadata": {},
   "outputs": [],
   "source": [
    "#1 - Escolha do Modelo (FEITO)\n",
    "\n",
    "#2 - Hyperparametros (FEITO)\n",
    "\n",
    "#3 - Separar\n",
    "X = df.drop('Class', axis=1)\n",
    "y = df['Class'].values.reshape(-1,1)"
   ]
  },
  {
   "cell_type": "code",
   "execution_count": 31,
   "metadata": {},
   "outputs": [],
   "source": [
    "#B - Hyperparametros\n",
    "ad = ADASYN(random_state=0)\n",
    "\n",
    "#C - Separar dados\n",
    "X_resampled, y_resampled = ad.fit_resample(X, y)"
   ]
  },
  {
   "cell_type": "code",
   "execution_count": 32,
   "metadata": {},
   "outputs": [],
   "source": [
    "#3.1 - Separar em Treino e Teste\n",
    "X_train, X_test, y_train, y_test = train_test_split(X_resampled, y_resampled)\n",
    "\n",
    "#4 - Fit\n",
    "model.fit(X_train, y_train)\n",
    "\n",
    "#5 - Predict\n",
    "y_pred = model.predict(X_test)"
   ]
  },
  {
   "cell_type": "code",
   "execution_count": 33,
   "metadata": {},
   "outputs": [
    {
     "name": "stdout",
     "output_type": "stream",
     "text": [
      "R² Score: \t0.54\n",
      "MAE: \t\t0.11\n",
      "MSE: \t\t0.11\n",
      "\n",
      "Classification Report\n",
      "               precision    recall  f1-score   support\n",
      "\n",
      "           0       0.87      0.91      0.89     70996\n",
      "           1       0.90      0.87      0.88     71160\n",
      "\n",
      "    accuracy                           0.89    142156\n",
      "   macro avg       0.89      0.89      0.89    142156\n",
      "weighted avg       0.89      0.89      0.89    142156\n",
      "\n",
      "\n"
     ]
    },
    {
     "data": {
      "text/plain": [
       "Text(111.12, 0.5, 'Verdadeiro')"
      ]
     },
     "execution_count": 33,
     "metadata": {},
     "output_type": "execute_result"
    },
    {
     "data": {
      "image/png": "[encoded data removed]",
      "text/plain": [
       "<Figure size 576x432 with 1 Axes>"
      ]
     },
     "metadata": {
      "needs_background": "light"
     },
     "output_type": "display_data"
    }
   ],
   "source": [
    "#Verificar o sucesso do modelo\n",
    "\n",
    "print(\"R² Score: \\t{:.2f}\".format(r2_score(y_test, y_pred)))          #R²\n",
    "print(\"MAE: \\t\\t{:.2f}\".format(mean_absolute_error(y_test, y_pred)))  #MAE\n",
    "print(\"MSE: \\t\\t{:.2f}\\n\".format(mean_squared_error(y_test, y_pred))) #MSE\n",
    "\n",
    "#Classification Report\n",
    "print(f\"Classification Report\\n {classification_report(y_test, y_pred)}\\n\")\n",
    "\n",
    "#Confusion Matrix\n",
    "fig, ax = plt.subplots(figsize=(8, 6))\n",
    "\n",
    "cm = confusion_matrix(y_test, y_pred)\n",
    "cmn = cm.astype('float') / cm.sum(axis=1)[:, np.newaxis] #???\n",
    "\n",
    "sns.heatmap(cmn, annot=True, cbar=False, \n",
    "            square=True, ax=ax);\n",
    "\n",
    "ax.set_title(\"Matriz de Confusão\")\n",
    "ax.set_xlabel(\"Previsto\")\n",
    "ax.set_ylabel(\"Verdadeiro\")"
   ]
  },
  {
   "attachments": {},
   "cell_type": "markdown",
   "metadata": {},
   "source": [
    "### Decision Tree\n",
    "\n",
    "A Árvore de Decisão é outra clássica metodologia de aprendizado supervisionado para modelos de classificação. Ela utiliza uma lógica de \"se...então\", por exemplo, se o valor em `Amount` no nosso conjunto de dados for maior que X, então o modelo determina que pode ser mais provável que seja sim um caso de fraude. \n",
    "\n",
    "De forma sucessiva o modelo analisa cada um dos atributos (colunas) no conjunto de dados e determina quais deles são capazes de distinguir com mais capacidade os casos de fraude dos casos que não são fraude. A partir disso \"ramos\" são formados onde, de um lado, temos teóricamente 2 conjuntos: um com dados só de fraude e outro com casos só de não fraude. Entretanto, isto não ocorre na maioria das vezes, pois ocorrem casos de Falsos Positivos e Falsos Negativos em ambos os grupos.\n",
    "\n",
    "Em seguida, um novo diferente em cada um dos ramos é utilizado para separar novamente os dados em 2 ramos, cada vez mais tentando alcançar a separação com maior pureza possível, ou seja, grupos puramente de fraude e sem fraude. A imagem abaixo representa de forma bem simplificada a lógica desta metodologia.\n",
    "\n",
    "<img src=\"https://miro.medium.com/max/2584/0*PB7MYQfzyaLaTp1n\">"
   ]
  },
  {
   "cell_type": "code",
   "execution_count": 34,
   "metadata": {},
   "outputs": [],
   "source": [
    "#1 - Escolher modelo\n",
    "from sklearn.tree import DecisionTreeClassifier\n",
    "\n",
    "#2 - Hyperparametros\n",
    "model_b1 = DecisionTreeClassifier(max_depth=2, criterion='entropy')\n",
    "model_b2 = DecisionTreeClassifier(max_depth=4, criterion='entropy')\n",
    "model_b3 = DecisionTreeClassifier(max_depth=8, criterion='entropy')\n",
    "model_b4 = DecisionTreeClassifier(max_depth=16, criterion='entropy')"
   ]
  },
  {
   "cell_type": "code",
   "execution_count": 35,
   "metadata": {},
   "outputs": [],
   "source": [
    "#3 - Separar\n",
    "X = df.drop('Class', axis=1)\n",
    "y = df['Class'].values.reshape(-1,1)\n",
    "\n",
    "#3.1 - Balanceamento dos dados\n",
    "\n",
    "#3.1.1 - Hyperparametros\n",
    "ros = RandomOverSampler(random_state=0)\n",
    "\n",
    "#3.1.2 - Separar dados\n",
    "X_resampled, y_resampled = ros.fit_resample(X, y)\n",
    "\n",
    "#3.2 - Separar Treino e Teste\n",
    "X_train, X_test, y_train, y_test = train_test_split(X_resampled, y_resampled)\n",
    "\n",
    "#4 - Fit\n",
    "model_b1.fit(X_resampled, y_resampled)\n",
    "model_b2.fit(X_resampled, y_resampled)\n",
    "model_b3.fit(X_resampled, y_resampled)\n",
    "model_b4.fit(X_resampled, y_resampled)\n",
    "\n",
    "#5 - Predict\n",
    "y_pred_b1 = model_b1.predict(X_test)\n",
    "y_pred_b2 = model_b2.predict(X_test)\n",
    "y_pred_b3 = model_b3.predict(X_test)\n",
    "y_pred_b4 = model_b4.predict(X_test)"
   ]
  },
  {
   "cell_type": "code",
   "execution_count": 36,
   "metadata": {},
   "outputs": [
    {
     "name": "stdout",
     "output_type": "stream",
     "text": [
      "R² Score: \t0.66\n",
      "MAE: \t\t0.08\n",
      "MSE: \t\t0.08\n",
      "\n",
      "Classification Report\n",
      "               precision    recall  f1-score   support\n",
      "\n",
      "           0       0.92      0.91      0.92     71207\n",
      "           1       0.91      0.92      0.92     70951\n",
      "\n",
      "    accuracy                           0.92    142158\n",
      "   macro avg       0.92      0.92      0.92    142158\n",
      "weighted avg       0.92      0.92      0.92    142158\n",
      "\n",
      "\n"
     ]
    },
    {
     "data": {
      "text/plain": [
       "Text(111.12, 0.5, 'Verdadeiro')"
      ]
     },
     "execution_count": 36,
     "metadata": {},
     "output_type": "execute_result"
    },
    {
     "data": {
      "image/png": "[encoded data removed]",
      "text/plain": [
       "<Figure size 576x432 with 1 Axes>"
      ]
     },
     "metadata": {
      "needs_background": "light"
     },
     "output_type": "display_data"
    }
   ],
   "source": [
    "#Verificar sucesso do modelo b1\n",
    "\n",
    "print(\"R² Score: \\t{:.2f}\".format(r2_score(y_test, y_pred_b1)))          #R²\n",
    "print(\"MAE: \\t\\t{:.2f}\".format(mean_absolute_error(y_test, y_pred_b1)))  #MAE\n",
    "print(\"MSE: \\t\\t{:.2f}\\n\".format(mean_squared_error(y_test, y_pred_b1))) #MSE\n",
    "\n",
    "#Classification Report\n",
    "print(f\"Classification Report\\n {classification_report(y_test, y_pred_b1)}\\n\")\n",
    "\n",
    "#Confusion Matrix\n",
    "fig, ax = plt.subplots(figsize=(8, 6))\n",
    "\n",
    "cm = confusion_matrix(y_test, y_pred_b1)\n",
    "cmn = cm.astype('float') / cm.sum(axis=1)[:, np.newaxis] #???\n",
    "\n",
    "sns.heatmap(cmn, annot=True, cbar=False, \n",
    "            square=True, ax=ax);\n",
    "\n",
    "ax.set_title(\"Matriz de Confusão\")\n",
    "ax.set_xlabel(\"Previsto\")\n",
    "ax.set_ylabel(\"Verdadeiro\")"
   ]
  },
  {
   "cell_type": "code",
   "execution_count": 37,
   "metadata": {},
   "outputs": [
    {
     "name": "stdout",
     "output_type": "stream",
     "text": [
      "R² Score: \t0.76\n",
      "MAE: \t\t0.06\n",
      "MSE: \t\t0.06\n",
      "\n",
      "Classification Report\n",
      "               precision    recall  f1-score   support\n",
      "\n",
      "           0       0.90      0.99      0.94     71207\n",
      "           1       0.99      0.89      0.94     70951\n",
      "\n",
      "    accuracy                           0.94    142158\n",
      "   macro avg       0.95      0.94      0.94    142158\n",
      "weighted avg       0.94      0.94      0.94    142158\n",
      "\n",
      "\n"
     ]
    },
    {
     "data": {
      "text/plain": [
       "Text(111.12, 0.5, 'Verdadeiro')"
      ]
     },
     "execution_count": 37,
     "metadata": {},
     "output_type": "execute_result"
    },
    {
     "data": {
      "image/png": "[encoded data removed]",
      "text/plain": [
       "<Figure size 576x432 with 1 Axes>"
      ]
     },
     "metadata": {
      "needs_background": "light"
     },
     "output_type": "display_data"
    }
   ],
   "source": [
    "#Verificar sucesso do modelo b2\n",
    "\n",
    "print(\"R² Score: \\t{:.2f}\".format(r2_score(y_test, y_pred_b2)))          #R²\n",
    "print(\"MAE: \\t\\t{:.2f}\".format(mean_absolute_error(y_test, y_pred_b2)))  #MAE\n",
    "print(\"MSE: \\t\\t{:.2f}\\n\".format(mean_squared_error(y_test, y_pred_b2))) #MSE\n",
    "\n",
    "#Classification Report\n",
    "print(f\"Classification Report\\n {classification_report(y_test, y_pred_b2)}\\n\")\n",
    "\n",
    "#Confusion Matrix\n",
    "fig, ax = plt.subplots(figsize=(8, 6))\n",
    "\n",
    "cm = confusion_matrix(y_test, y_pred_b2)\n",
    "cmn = cm.astype('float') / cm.sum(axis=1)[:, np.newaxis] #???\n",
    "\n",
    "sns.heatmap(cmn, annot=True, cbar=False, \n",
    "            square=True, ax=ax);\n",
    "\n",
    "ax.set_title(\"Matriz de Confusão\")\n",
    "ax.set_xlabel(\"Previsto\")\n",
    "ax.set_ylabel(\"Verdadeiro\")"
   ]
  },
  {
   "cell_type": "code",
   "execution_count": 38,
   "metadata": {},
   "outputs": [
    {
     "name": "stdout",
     "output_type": "stream",
     "text": [
      "R² Score: \t0.93\n",
      "MAE: \t\t0.02\n",
      "MSE: \t\t0.02\n",
      "\n",
      "Classification Report\n",
      "               precision    recall  f1-score   support\n",
      "\n",
      "           0       0.99      0.97      0.98     71207\n",
      "           1       0.97      0.99      0.98     70951\n",
      "\n",
      "    accuracy                           0.98    142158\n",
      "   macro avg       0.98      0.98      0.98    142158\n",
      "weighted avg       0.98      0.98      0.98    142158\n",
      "\n",
      "\n"
     ]
    },
    {
     "data": {
      "text/plain": [
       "Text(111.12, 0.5, 'Verdadeiro')"
      ]
     },
     "execution_count": 38,
     "metadata": {},
     "output_type": "execute_result"
    },
    {
     "data": {
      "image/png": "[encoded data removed]",
      "text/plain": [
       "<Figure size 576x432 with 1 Axes>"
      ]
     },
     "metadata": {
      "needs_background": "light"
     },
     "output_type": "display_data"
    }
   ],
   "source": [
    "#Verificar sucesso do modelo b3\n",
    "\n",
    "print(\"R² Score: \\t{:.2f}\".format(r2_score(y_test, y_pred_b3)))          #R²\n",
    "print(\"MAE: \\t\\t{:.2f}\".format(mean_absolute_error(y_test, y_pred_b3)))  #MAE\n",
    "print(\"MSE: \\t\\t{:.2f}\\n\".format(mean_squared_error(y_test, y_pred_b3))) #MSE\n",
    "\n",
    "#Classification Report\n",
    "print(f\"Classification Report\\n {classification_report(y_test, y_pred_b3)}\\n\")\n",
    "\n",
    "#Confusion Matrix\n",
    "fig, ax = plt.subplots(figsize=(8, 6))\n",
    "\n",
    "cm = confusion_matrix(y_test, y_pred_b3)\n",
    "cmn = cm.astype('float') / cm.sum(axis=1)[:, np.newaxis] #???\n",
    "\n",
    "sns.heatmap(cmn, annot=True, cbar=False, \n",
    "            square=True, ax=ax);\n",
    "\n",
    "ax.set_title(\"Matriz de Confusão\")\n",
    "ax.set_xlabel(\"Previsto\")\n",
    "ax.set_ylabel(\"Verdadeiro\")"
   ]
  },
  {
   "cell_type": "code",
   "execution_count": 39,
   "metadata": {},
   "outputs": [
    {
     "name": "stdout",
     "output_type": "stream",
     "text": [
      "R² Score: \t1.00\n",
      "MAE: \t\t0.00\n",
      "MSE: \t\t0.00\n",
      "\n",
      "Classification Report\n",
      "               precision    recall  f1-score   support\n",
      "\n",
      "           0       1.00      1.00      1.00     71207\n",
      "           1       1.00      1.00      1.00     70951\n",
      "\n",
      "    accuracy                           1.00    142158\n",
      "   macro avg       1.00      1.00      1.00    142158\n",
      "weighted avg       1.00      1.00      1.00    142158\n",
      "\n",
      "\n"
     ]
    },
    {
     "data": {
      "text/plain": [
       "Text(111.12, 0.5, 'Verdadeiro')"
      ]
     },
     "execution_count": 39,
     "metadata": {},
     "output_type": "execute_result"
    },
    {
     "data": {
      "image/png": "[encoded data removed]",
      "text/plain": [
       "<Figure size 576x432 with 1 Axes>"
      ]
     },
     "metadata": {
      "needs_background": "light"
     },
     "output_type": "display_data"
    }
   ],
   "source": [
    "#Verificar sucesso do modelo b4\n",
    "\n",
    "print(\"R² Score: \\t{:.2f}\".format(r2_score(y_test, y_pred_b4)))          #R²\n",
    "print(\"MAE: \\t\\t{:.2f}\".format(mean_absolute_error(y_test, y_pred_b4)))  #MAE\n",
    "print(\"MSE: \\t\\t{:.2f}\\n\".format(mean_squared_error(y_test, y_pred_b4))) #MSE\n",
    "\n",
    "#Classification Report\n",
    "print(f\"Classification Report\\n {classification_report(y_test, y_pred_b4)}\\n\")\n",
    "\n",
    "#Confusion Matrix\n",
    "fig, ax = plt.subplots(figsize=(8, 6))\n",
    "\n",
    "cm = confusion_matrix(y_test, y_pred_b4)\n",
    "cmn = cm.astype('float') / cm.sum(axis=1)[:, np.newaxis] #???\n",
    "\n",
    "sns.heatmap(cmn, annot=True, cbar=False, \n",
    "            square=True, ax=ax);\n",
    "\n",
    "ax.set_title(\"Matriz de Confusão\")\n",
    "ax.set_xlabel(\"Previsto\")\n",
    "ax.set_ylabel(\"Verdadeiro\")"
   ]
  },
  {
   "attachments": {},
   "cell_type": "markdown",
   "metadata": {},
   "source": [
    "Ao analisar os 4 modelos é possível identificar certos comportamentos nos resultados de qualidade obtidos. \n",
    "\n",
    "Primeiramente o R², MAE e MSE foram melhorando conforme mais ramos foram adicionados à árvore. Inicialmente, o modelo com 2 ramos apresentou baixo R² (0.66) e MAE (0.09) e MSE (0.09) levemente altos. \n",
    "\n",
    "Em seguida, os valores de Precision e Recall também foram melhorando. O primeiro modelo já apresentou bons resultados, de maneira que foram bem semelhantes com os resultados do modelo de regressão logística utilizado anteriormente (Precision = 0.91; Recall = 0.91).\n",
    "\n",
    "Por fim, ao analisar os Falsos Positivos e Falsos Negativo, houve significativa melhora. Os modelos de b1 (2 ramos) e b2 (4 ramos) se comportaram similar aos casos no modelo de regressão logística com FN em torno de 0.08 e 0.11 e FP em torno de 0.01 e 0.09. \n",
    "\n",
    "Vale destacar os resultados bem mais favoráveis no modelo b3 (8 ramos). Nele, os Falsos Negativos (0.0086) e Falsos Positivos reduziram drásticamente (0.027). Como já mencionado anteriormente, é altamente relevante para o caso em questão reduzir o total de Falsos Negativos de maneira a evitar o máximo que casos de fraude passem pelo filtro do modelo.\n",
    "\n",
    "Uma última observação diz respeito ao modelo b4 (16 ramos). Seus resultados foram perfeitos em todas as categorias de qualidade. Isto é um forte indicativo de overfitting do modelo, ou seja, ele é capaz de segmentar perfeitamente os grupos fraude e não fraude do conjunto de dados utilizado oferecido. Caso novos dados fossem utilizados, este modelo não seria capaz de prevê-los com sucesso. \n",
    "\n",
    "Este resultado também pode servir de fundamento para questionar o modelo b3. É possível que ele também esteja sofrendo com problemas de overfitting, apesar de existirem certa margem de erro em todos os resultados.\n",
    "\n",
    "Como próximo passo, similar ao modelo de Regressão Logística, a utilização das técnicas de SMOTE e ADASYN para oversampling foram aplicadas e novos modelos gerados com o intuito de identificar melhoras nos resultados."
   ]
  },
  {
   "attachments": {},
   "cell_type": "markdown",
   "metadata": {},
   "source": [
    "### Decision Tree - SMOTE (Synthetic Minority Over Sampling Technique)"
   ]
  },
  {
   "cell_type": "code",
   "execution_count": 40,
   "metadata": {},
   "outputs": [],
   "source": [
    "#B - Hyperparametros\n",
    "sm = SMOTE(random_state=0) #Aplicação do método SMOTE em vez de Random Sampling\n",
    "\n",
    "#C - Separar dados\n",
    "X_resampled, y_resampled = sm.fit_resample(X, y) #Criação dos dados em Class"
   ]
  },
  {
   "cell_type": "code",
   "execution_count": 41,
   "metadata": {},
   "outputs": [],
   "source": [
    "#4 - Fit\n",
    "model_b1.fit(X_resampled, y_resampled)\n",
    "model_b2.fit(X_resampled, y_resampled)\n",
    "model_b3.fit(X_resampled, y_resampled)\n",
    "model_b4.fit(X_resampled, y_resampled)\n",
    "\n",
    "#5 - Predict\n",
    "y_pred_b1 = model_b1.predict(X_test)\n",
    "y_pred_b2 = model_b2.predict(X_test)\n",
    "y_pred_b3 = model_b3.predict(X_test)\n",
    "y_pred_b4 = model_b4.predict(X_test)"
   ]
  },
  {
   "cell_type": "code",
   "execution_count": 42,
   "metadata": {},
   "outputs": [
    {
     "name": "stdout",
     "output_type": "stream",
     "text": [
      "R² Score: \t0.66\n",
      "MAE: \t\t0.09\n",
      "MSE: \t\t0.09\n",
      "\n",
      "Classification Report\n",
      "               precision    recall  f1-score   support\n",
      "\n",
      "           0       0.86      0.99      0.92     71207\n",
      "           1       0.99      0.84      0.91     70951\n",
      "\n",
      "    accuracy                           0.91    142158\n",
      "   macro avg       0.92      0.91      0.91    142158\n",
      "weighted avg       0.92      0.91      0.91    142158\n",
      "\n",
      "\n"
     ]
    },
    {
     "data": {
      "text/plain": [
       "Text(111.12, 0.5, 'Verdadeiro')"
      ]
     },
     "execution_count": 42,
     "metadata": {},
     "output_type": "execute_result"
    },
    {
     "data": {
      "image/png": "[encoded data removed]",
      "text/plain": [
       "<Figure size 576x432 with 1 Axes>"
      ]
     },
     "metadata": {
      "needs_background": "light"
     },
     "output_type": "display_data"
    }
   ],
   "source": [
    "#Verificar sucesso do modelo b1\n",
    "\n",
    "print(\"R² Score: \\t{:.2f}\".format(r2_score(y_test, y_pred_b1)))          #R²\n",
    "print(\"MAE: \\t\\t{:.2f}\".format(mean_absolute_error(y_test, y_pred_b1)))  #MAE\n",
    "print(\"MSE: \\t\\t{:.2f}\\n\".format(mean_squared_error(y_test, y_pred_b1))) #MSE\n",
    "\n",
    "#Classification Report\n",
    "print(f\"Classification Report\\n {classification_report(y_test, y_pred_b1)}\\n\")\n",
    "\n",
    "#Confusion Matrix\n",
    "fig, ax = plt.subplots(figsize=(8, 6))\n",
    "\n",
    "cm = confusion_matrix(y_test, y_pred_b1)\n",
    "cmn = cm.astype('float') / cm.sum(axis=1)[:, np.newaxis] #???\n",
    "\n",
    "sns.heatmap(cmn, annot=True, cbar=False, \n",
    "            square=True, ax=ax);\n",
    "\n",
    "ax.set_title(\"Matriz de Confusão\")\n",
    "ax.set_xlabel(\"Previsto\")\n",
    "ax.set_ylabel(\"Verdadeiro\")"
   ]
  },
  {
   "cell_type": "code",
   "execution_count": 43,
   "metadata": {},
   "outputs": [
    {
     "name": "stdout",
     "output_type": "stream",
     "text": [
      "R² Score: \t0.75\n",
      "MAE: \t\t0.06\n",
      "MSE: \t\t0.06\n",
      "\n",
      "Classification Report\n",
      "               precision    recall  f1-score   support\n",
      "\n",
      "           0       0.90      0.98      0.94     71207\n",
      "           1       0.98      0.89      0.94     70951\n",
      "\n",
      "    accuracy                           0.94    142158\n",
      "   macro avg       0.94      0.94      0.94    142158\n",
      "weighted avg       0.94      0.94      0.94    142158\n",
      "\n",
      "\n"
     ]
    },
    {
     "data": {
      "text/plain": [
       "Text(111.12, 0.5, 'Verdadeiro')"
      ]
     },
     "execution_count": 43,
     "metadata": {},
     "output_type": "execute_result"
    },
    {
     "data": {
      "image/png": "[encoded data removed]",
      "text/plain": [
       "<Figure size 576x432 with 1 Axes>"
      ]
     },
     "metadata": {
      "needs_background": "light"
     },
     "output_type": "display_data"
    }
   ],
   "source": [
    "#Verificar sucesso do modelo b2\n",
    "\n",
    "print(\"R² Score: \\t{:.2f}\".format(r2_score(y_test, y_pred_b2)))          #R²\n",
    "print(\"MAE: \\t\\t{:.2f}\".format(mean_absolute_error(y_test, y_pred_b2)))  #MAE\n",
    "print(\"MSE: \\t\\t{:.2f}\\n\".format(mean_squared_error(y_test, y_pred_b2))) #MSE\n",
    "\n",
    "#Classification Report\n",
    "print(f\"Classification Report\\n {classification_report(y_test, y_pred_b2)}\\n\")\n",
    "\n",
    "#Confusion Matrix\n",
    "fig, ax = plt.subplots(figsize=(8, 6))\n",
    "\n",
    "cm = confusion_matrix(y_test, y_pred_b2)\n",
    "cmn = cm.astype('float') / cm.sum(axis=1)[:, np.newaxis] #???\n",
    "\n",
    "sns.heatmap(cmn, annot=True, cbar=False, \n",
    "            square=True, ax=ax);\n",
    "\n",
    "ax.set_title(\"Matriz de Confusão\")\n",
    "ax.set_xlabel(\"Previsto\")\n",
    "ax.set_ylabel(\"Verdadeiro\")"
   ]
  },
  {
   "cell_type": "code",
   "execution_count": 44,
   "metadata": {},
   "outputs": [
    {
     "name": "stdout",
     "output_type": "stream",
     "text": [
      "R² Score: \t0.87\n",
      "MAE: \t\t0.03\n",
      "MSE: \t\t0.03\n",
      "\n",
      "Classification Report\n",
      "               precision    recall  f1-score   support\n",
      "\n",
      "           0       0.97      0.97      0.97     71207\n",
      "           1       0.97      0.97      0.97     70951\n",
      "\n",
      "    accuracy                           0.97    142158\n",
      "   macro avg       0.97      0.97      0.97    142158\n",
      "weighted avg       0.97      0.97      0.97    142158\n",
      "\n",
      "\n"
     ]
    },
    {
     "data": {
      "text/plain": [
       "Text(111.12, 0.5, 'Verdadeiro')"
      ]
     },
     "execution_count": 44,
     "metadata": {},
     "output_type": "execute_result"
    },
    {
     "data": {
      "image/png": "[encoded data removed]",
      "text/plain": [
       "<Figure size 576x432 with 1 Axes>"
      ]
     },
     "metadata": {
      "needs_background": "light"
     },
     "output_type": "display_data"
    }
   ],
   "source": [
    "#Verificar sucesso do modelo b3\n",
    "\n",
    "print(\"R² Score: \\t{:.2f}\".format(r2_score(y_test, y_pred_b3)))          #R²\n",
    "print(\"MAE: \\t\\t{:.2f}\".format(mean_absolute_error(y_test, y_pred_b3)))  #MAE\n",
    "print(\"MSE: \\t\\t{:.2f}\\n\".format(mean_squared_error(y_test, y_pred_b3))) #MSE\n",
    "\n",
    "#Classification Report\n",
    "print(f\"Classification Report\\n {classification_report(y_test, y_pred_b3)}\\n\")\n",
    "\n",
    "#Confusion Matrix\n",
    "fig, ax = plt.subplots(figsize=(8, 6))\n",
    "\n",
    "cm = confusion_matrix(y_test, y_pred_b3)\n",
    "cmn = cm.astype('float') / cm.sum(axis=1)[:, np.newaxis] #???\n",
    "\n",
    "sns.heatmap(cmn, annot=True, cbar=False, \n",
    "            square=True, ax=ax);\n",
    "\n",
    "ax.set_title(\"Matriz de Confusão\")\n",
    "ax.set_xlabel(\"Previsto\")\n",
    "ax.set_ylabel(\"Verdadeiro\")"
   ]
  },
  {
   "cell_type": "code",
   "execution_count": 45,
   "metadata": {},
   "outputs": [
    {
     "name": "stdout",
     "output_type": "stream",
     "text": [
      "R² Score: \t0.99\n",
      "MAE: \t\t0.00\n",
      "MSE: \t\t0.00\n",
      "\n",
      "Classification Report\n",
      "               precision    recall  f1-score   support\n",
      "\n",
      "           0       1.00      1.00      1.00     71207\n",
      "           1       1.00      1.00      1.00     70951\n",
      "\n",
      "    accuracy                           1.00    142158\n",
      "   macro avg       1.00      1.00      1.00    142158\n",
      "weighted avg       1.00      1.00      1.00    142158\n",
      "\n",
      "\n"
     ]
    },
    {
     "data": {
      "text/plain": [
       "Text(111.12, 0.5, 'Verdadeiro')"
      ]
     },
     "execution_count": 45,
     "metadata": {},
     "output_type": "execute_result"
    },
    {
     "data": {
      "image/png": "[encoded data removed]",
      "text/plain": [
       "<Figure size 576x432 with 1 Axes>"
      ]
     },
     "metadata": {
      "needs_background": "light"
     },
     "output_type": "display_data"
    }
   ],
   "source": [
    "#Verificar sucesso do modelo b4\n",
    "\n",
    "print(\"R² Score: \\t{:.2f}\".format(r2_score(y_test, y_pred_b4)))          #R²\n",
    "print(\"MAE: \\t\\t{:.2f}\".format(mean_absolute_error(y_test, y_pred_b4)))  #MAE\n",
    "print(\"MSE: \\t\\t{:.2f}\\n\".format(mean_squared_error(y_test, y_pred_b4))) #MSE\n",
    "\n",
    "#Classification Report\n",
    "print(f\"Classification Report\\n {classification_report(y_test, y_pred_b4)}\\n\")\n",
    "\n",
    "#Confusion Matrix\n",
    "fig, ax = plt.subplots(figsize=(8, 6))\n",
    "\n",
    "cm = confusion_matrix(y_test, y_pred_b4)\n",
    "cmn = cm.astype('float') / cm.sum(axis=1)[:, np.newaxis] #???\n",
    "\n",
    "sns.heatmap(cmn, annot=True, cbar=False, \n",
    "            square=True, ax=ax);\n",
    "\n",
    "ax.set_title(\"Matriz de Confusão\")\n",
    "ax.set_xlabel(\"Previsto\")\n",
    "ax.set_ylabel(\"Verdadeiro\")"
   ]
  },
  {
   "attachments": {},
   "cell_type": "markdown",
   "metadata": {},
   "source": [
    "### Decision Tree - ADASYN (Adaptative Synthetic)"
   ]
  },
  {
   "cell_type": "code",
   "execution_count": 46,
   "metadata": {},
   "outputs": [],
   "source": [
    "#B - Hyperparametros\n",
    "ad = ADASYN(random_state=0)\n",
    "\n",
    "#C - Separar dados\n",
    "X_resampled, y_resampled = ad.fit_resample(X, y)"
   ]
  },
  {
   "cell_type": "code",
   "execution_count": 47,
   "metadata": {},
   "outputs": [],
   "source": [
    "#4 - Fit\n",
    "model_b1.fit(X_resampled, y_resampled)\n",
    "model_b2.fit(X_resampled, y_resampled)\n",
    "model_b3.fit(X_resampled, y_resampled)\n",
    "model_b4.fit(X_resampled, y_resampled)\n",
    "\n",
    "#5 - Predict\n",
    "y_pred_b1 = model_b1.predict(X_test)\n",
    "y_pred_b2 = model_b2.predict(X_test)\n",
    "y_pred_b3 = model_b3.predict(X_test)\n",
    "y_pred_b4 = model_b4.predict(X_test)"
   ]
  },
  {
   "cell_type": "code",
   "execution_count": 48,
   "metadata": {},
   "outputs": [
    {
     "name": "stdout",
     "output_type": "stream",
     "text": [
      "R² Score: \t0.39\n",
      "MAE: \t\t0.15\n",
      "MSE: \t\t0.15\n",
      "\n",
      "Classification Report\n",
      "               precision    recall  f1-score   support\n",
      "\n",
      "           0       0.95      0.73      0.83     71207\n",
      "           1       0.78      0.96      0.86     70951\n",
      "\n",
      "    accuracy                           0.85    142158\n",
      "   macro avg       0.87      0.85      0.85    142158\n",
      "weighted avg       0.87      0.85      0.85    142158\n",
      "\n",
      "\n"
     ]
    },
    {
     "data": {
      "text/plain": [
       "Text(111.12, 0.5, 'Verdadeiro')"
      ]
     },
     "execution_count": 48,
     "metadata": {},
     "output_type": "execute_result"
    },
    {
     "data": {
      "image/png": "[encoded data removed]",
      "text/plain": [
       "<Figure size 576x432 with 1 Axes>"
      ]
     },
     "metadata": {
      "needs_background": "light"
     },
     "output_type": "display_data"
    }
   ],
   "source": [
    "#Verificar o sucesso do modelo b1\n",
    "\n",
    "print(\"R² Score: \\t{:.2f}\".format(r2_score(y_test, y_pred_b1)))          #R²\n",
    "print(\"MAE: \\t\\t{:.2f}\".format(mean_absolute_error(y_test, y_pred_b1)))  #MAE\n",
    "print(\"MSE: \\t\\t{:.2f}\\n\".format(mean_squared_error(y_test, y_pred_b1))) #MSE\n",
    "\n",
    "#Classification Report\n",
    "print(f\"Classification Report\\n {classification_report(y_test, y_pred_b1)}\\n\")\n",
    "\n",
    "#Confusion Matrix\n",
    "fig, ax = plt.subplots(figsize=(8, 6))\n",
    "\n",
    "cm = confusion_matrix(y_test, y_pred_b1)\n",
    "cmn = cm.astype('float') / cm.sum(axis=1)[:, np.newaxis] #???\n",
    "\n",
    "sns.heatmap(cmn, annot=True, cbar=False, \n",
    "            square=True, ax=ax);\n",
    "\n",
    "ax.set_title(\"Matriz de Confusão\")\n",
    "ax.set_xlabel(\"Previsto\")\n",
    "ax.set_ylabel(\"Verdadeiro\")"
   ]
  },
  {
   "cell_type": "code",
   "execution_count": 49,
   "metadata": {},
   "outputs": [
    {
     "name": "stdout",
     "output_type": "stream",
     "text": [
      "R² Score: \t0.64\n",
      "MAE: \t\t0.09\n",
      "MSE: \t\t0.09\n",
      "\n",
      "Classification Report\n",
      "               precision    recall  f1-score   support\n",
      "\n",
      "           0       0.96      0.86      0.91     71207\n",
      "           1       0.87      0.96      0.91     70951\n",
      "\n",
      "    accuracy                           0.91    142158\n",
      "   macro avg       0.91      0.91      0.91    142158\n",
      "weighted avg       0.91      0.91      0.91    142158\n",
      "\n",
      "\n"
     ]
    },
    {
     "data": {
      "text/plain": [
       "Text(111.12, 0.5, 'Verdadeiro')"
      ]
     },
     "execution_count": 49,
     "metadata": {},
     "output_type": "execute_result"
    },
    {
     "data": {
      "image/png": "[encoded data removed]",
      "text/plain": [
       "<Figure size 576x432 with 1 Axes>"
      ]
     },
     "metadata": {
      "needs_background": "light"
     },
     "output_type": "display_data"
    }
   ],
   "source": [
    "#Verificar o sucesso do modelo b2\n",
    "\n",
    "print(\"R² Score: \\t{:.2f}\".format(r2_score(y_test, y_pred_b2)))          #R²\n",
    "print(\"MAE: \\t\\t{:.2f}\".format(mean_absolute_error(y_test, y_pred_b2)))  #MAE\n",
    "print(\"MSE: \\t\\t{:.2f}\\n\".format(mean_squared_error(y_test, y_pred_b2))) #MSE\n",
    "#Classification Report\n",
    "print(f\"Classification Report\\n {classification_report(y_test, y_pred_b2)}\\n\")\n",
    "\n",
    "#Confusion Matrix\n",
    "fig, ax = plt.subplots(figsize=(8, 6))\n",
    "\n",
    "cm = confusion_matrix(y_test, y_pred_b2)\n",
    "cmn = cm.astype('float') / cm.sum(axis=1)[:, np.newaxis] #???\n",
    "\n",
    "sns.heatmap(cmn, annot=True, cbar=False, \n",
    "            square=True, ax=ax);\n",
    "\n",
    "ax.set_title(\"Matriz de Confusão\")\n",
    "ax.set_xlabel(\"Previsto\")\n",
    "ax.set_ylabel(\"Verdadeiro\")"
   ]
  },
  {
   "cell_type": "code",
   "execution_count": 50,
   "metadata": {},
   "outputs": [
    {
     "name": "stdout",
     "output_type": "stream",
     "text": [
      "R² Score: \t0.82\n",
      "MAE: \t\t0.04\n",
      "MSE: \t\t0.04\n",
      "\n",
      "Classification Report\n",
      "               precision    recall  f1-score   support\n",
      "\n",
      "           0       0.98      0.93      0.95     71207\n",
      "           1       0.94      0.98      0.96     70951\n",
      "\n",
      "    accuracy                           0.96    142158\n",
      "   macro avg       0.96      0.96      0.96    142158\n",
      "weighted avg       0.96      0.96      0.96    142158\n",
      "\n",
      "\n"
     ]
    },
    {
     "data": {
      "text/plain": [
       "Text(111.12, 0.5, 'Verdadeiro')"
      ]
     },
     "execution_count": 50,
     "metadata": {},
     "output_type": "execute_result"
    },
    {
     "data": {
      "image/png": "[encoded data removed]",
      "text/plain": [
       "<Figure size 576x432 with 1 Axes>"
      ]
     },
     "metadata": {
      "needs_background": "light"
     },
     "output_type": "display_data"
    }
   ],
   "source": [
    "#Verificar o sucesso do modelo b3\n",
    "\n",
    "print(\"R² Score: \\t{:.2f}\".format(r2_score(y_test, y_pred_b3)))          #R²\n",
    "print(\"MAE: \\t\\t{:.2f}\".format(mean_absolute_error(y_test, y_pred_b3)))  #MAE\n",
    "print(\"MSE: \\t\\t{:.2f}\\n\".format(mean_squared_error(y_test, y_pred_b3))) #MSE\n",
    "\n",
    "#Classification Report\n",
    "print(f\"Classification Report\\n {classification_report(y_test, y_pred_b3)}\\n\")\n",
    "\n",
    "#Confusion Matrix\n",
    "fig, ax = plt.subplots(figsize=(8, 6))\n",
    "\n",
    "cm = confusion_matrix(y_test, y_pred_b3)\n",
    "cmn = cm.astype('float') / cm.sum(axis=1)[:, np.newaxis] #???\n",
    "\n",
    "sns.heatmap(cmn, annot=True, cbar=False, \n",
    "            square=True, ax=ax);\n",
    "\n",
    "ax.set_title(\"Matriz de Confusão\")\n",
    "ax.set_xlabel(\"Previsto\")\n",
    "ax.set_ylabel(\"Verdadeiro\")"
   ]
  },
  {
   "cell_type": "code",
   "execution_count": 51,
   "metadata": {},
   "outputs": [
    {
     "name": "stdout",
     "output_type": "stream",
     "text": [
      "R² Score: \t0.99\n",
      "MAE: \t\t0.00\n",
      "MSE: \t\t0.00\n",
      "\n",
      "Classification Report\n",
      "               precision    recall  f1-score   support\n",
      "\n",
      "           0       1.00      0.99      1.00     71207\n",
      "           1       0.99      1.00      1.00     70951\n",
      "\n",
      "    accuracy                           1.00    142158\n",
      "   macro avg       1.00      1.00      1.00    142158\n",
      "weighted avg       1.00      1.00      1.00    142158\n",
      "\n",
      "\n"
     ]
    },
    {
     "data": {
      "text/plain": [
       "Text(111.12, 0.5, 'Verdadeiro')"
      ]
     },
     "execution_count": 51,
     "metadata": {},
     "output_type": "execute_result"
    },
    {
     "data": {
      "image/png": "[encoded data removed]",
      "text/plain": [
       "<Figure size 576x432 with 1 Axes>"
      ]
     },
     "metadata": {
      "needs_background": "light"
     },
     "output_type": "display_data"
    }
   ],
   "source": [
    "#Verificar o sucesso do modelo b4\n",
    "\n",
    "print(\"R² Score: \\t{:.2f}\".format(r2_score(y_test, y_pred_b4)))          #R²\n",
    "print(\"MAE: \\t\\t{:.2f}\".format(mean_absolute_error(y_test, y_pred_b4)))  #MAE\n",
    "print(\"MSE: \\t\\t{:.2f}\\n\".format(mean_squared_error(y_test, y_pred_b4))) #MSE\n",
    "\n",
    "#Classification Report\n",
    "print(f\"Classification Report\\n {classification_report(y_test, y_pred_b4)}\\n\")\n",
    "\n",
    "#Confusion Matrix\n",
    "fig, ax = plt.subplots(figsize=(8, 6))\n",
    "\n",
    "cm = confusion_matrix(y_test, y_pred_b4)\n",
    "cmn = cm.astype('float') / cm.sum(axis=1)[:, np.newaxis] #???\n",
    "\n",
    "sns.heatmap(cmn, annot=True, cbar=False, \n",
    "            square=True, ax=ax);\n",
    "\n",
    "ax.set_title(\"Matriz de Confusão\")\n",
    "ax.set_xlabel(\"Previsto\")\n",
    "ax.set_ylabel(\"Verdadeiro\")"
   ]
  },
  {
   "attachments": {},
   "cell_type": "markdown",
   "metadata": {},
   "source": [
    "# 4. Conclusão\n",
    "\n",
    "Após a aplicação de 2 métodos de ML, regressão logística e árvore de decisão, criamos um modelo de identificação de fraudes de cartão de crédito, com uma alta acertividade. \n",
    "\n",
    "Neste projeto, o segundo método apresentou melhores resultados, apesar da diferença ser bem leve entre ambos os métodos. Vale reforçar que não existe superioridade geral entre metodologias, assim caso o problema a ser resolvido fosse diferente, possivelmente a regressão logística seria um método com resultados mais ótimos. \n",
    "\n",
    "Vale reforçar também a utilização de 3 técnicas diferentes de balanceamento de dados devido a pouca quantidade de casos de fraude comparados aos casos de não fraude. Cada técnica utiliza lógicas matemáticas diferentes para gerar novos valores e, novamente, não existe uma solução mais ideal. No presente projeto todos os resultados foram bem próximos uns dos outros. Deve-se destacar que a técnica de Undersampling não foi aplicada neste projeto. Esta foi uma escolha pessoal, pois a perda de informação com a redução de dados seria bem extrema, possivelmente reduzindo o poder explicativo do modelo. \n",
    "\n",
    "Destaca-se também que um dos principais critérios de desempate utilizados neste projeto foi a proporção de Falsos Negativos. No problema em mãos de fraude de cartão, deixar de identificar um caso como fraude é muito pior do que erroneamento identificar um caso como fraude, pois a diferença sobre o impacto financeiro é muito maior. O problema de negócios deve ser o centro de qualquer solução de Machine Learning, portanto, seja qual for o projeto construído, ele deve ter no escopo os ganhos e perdas que geram para o negócio."
   ]
  }
 ],
 "metadata": {
  "kernelspec": {
   "display_name": "Python 3",
   "language": "python",
   "name": "python3"
  },
  "language_info": {
   "codemirror_mode": {
    "name": "ipython",
    "version": 3
   },
   "file_extension": ".py",
   "mimetype": "text/x-python",
   "name": "python",
   "nbconvert_exporter": "python",
   "pygments_lexer": "ipython3",
   "version": "3.9.6"
  },
  "orig_nbformat": 4
 },
 "nbformat": 4,
 "nbformat_minor": 2
}
